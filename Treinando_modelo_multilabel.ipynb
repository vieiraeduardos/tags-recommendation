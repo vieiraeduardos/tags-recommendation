{
 "cells": [
  {
   "cell_type": "markdown",
   "metadata": {},
   "source": [
    "## Utils"
   ]
  },
  {
   "cell_type": "markdown",
   "metadata": {},
   "source": [
    "Funções auxiliares"
   ]
  },
  {
   "cell_type": "code",
   "execution_count": 1,
   "metadata": {},
   "outputs": [],
   "source": [
    "import numpy as np\n",
    "from sklearn import preprocessing\n",
    "\n",
    "def tags_list_to_array(tags_set):\n",
    "  results = []\n",
    "  for tags in tags_set:\n",
    "    results.append(list(filter(None, tags.split(\";\"))))\n",
    "\n",
    "  return results\n",
    "\n",
    "def get_unique_tags_list(tags_set):\n",
    "\n",
    "  results = []\n",
    "  for tags in tags_set:\n",
    "    for tag in tags:\n",
    "      results.append(tag)\n",
    "\n",
    "  return list(set(results))\n",
    "\n",
    "def get_all_tags(tags_set):\n",
    "  results = []\n",
    "  for tags in tags_set:\n",
    "    for tag in tags:\n",
    "      results.append(tag)\n",
    "\n",
    "  return results\n",
    "\n",
    "def transform_array_to_binary(tags_set):\n",
    "  le = preprocessing.LabelEncoder()\n",
    "  uniques = get_unique_tags_list(dt.Tags)\n",
    "\n",
    "  le.fit(uniques)\n",
    "  \n",
    "  length = len(uniques)\n",
    "  results = []\n",
    "  for tags in tags_set:\n",
    "    encoder_result = le.transform(tags)\n",
    "\n",
    "    arr = np.zeros((length,), dtype=int)\n",
    "    for position in encoder_result:\n",
    "      arr[position] = 1\n",
    "\n",
    "    results.append(list(arr))\n",
    "  return np.array(results)"
   ]
  },
  {
   "cell_type": "markdown",
   "metadata": {},
   "source": [
    "Métrica de Hit ratio"
   ]
  },
  {
   "cell_type": "code",
   "execution_count": 2,
   "metadata": {},
   "outputs": [],
   "source": [
    "import numpy as np\n",
    "\n",
    "def hitk_convert_array_to_dict(arr):\n",
    "  results = []\n",
    "\n",
    "  for i in range(len(arr)):\n",
    "    results.append(i)\n",
    "    results.append(arr[i])\n",
    "\n",
    "  return dict(zip(results[::2], results[1::2]))\n",
    "\n",
    "def hitk_sort_dict(x):\n",
    "  return sorted(x.items(), key=lambda kv: kv[1], reverse=True)\n",
    "\n",
    "def hitk_get_k_keys(x, k):\n",
    "  keys = []\n",
    "\n",
    "  for item in x[:k]:\n",
    "    key = item[0]\n",
    "    value = item[1]\n",
    "\n",
    "    if value > 0.5:\n",
    "      keys.append(item[0])\n",
    "\n",
    "  return keys\n",
    "\n",
    "def hitk_get_number_of_correct_keys(keys_from_y_true, keys_from_y_scores):\n",
    "  count = 0\n",
    "\n",
    "  for i in range(min(len(keys_from_y_true), len(keys_from_y_scores))):\n",
    "    if keys_from_y_scores[i] in keys_from_y_true:\n",
    "      count += 1\n",
    "\n",
    "  return count\n",
    "\n",
    "def hitk_calculate(y_true, y_scores, k = 1):\n",
    "  # converting from array format to dict format\n",
    "  y_scores = hitk_convert_array_to_dict(y_scores)\n",
    "  y_true = hitk_convert_array_to_dict(y_true)\n",
    "\n",
    "  # sorting dict by value\n",
    "  y_scores = hitk_sort_dict(y_scores)\n",
    "  y_true = hitk_sort_dict(y_true)\n",
    "\n",
    "  # getting k first keys from dict\n",
    "  keys_from_y_scores = hitk_get_k_keys(y_scores, k)\n",
    "  keys_from_y_true = hitk_get_k_keys(y_true, len(y_true)) \n",
    "\n",
    "  # process\n",
    "  m = hitk_get_number_of_correct_keys(keys_from_y_true, keys_from_y_scores)\n",
    "\n",
    "  # number of tags truely\n",
    "  ng = len(keys_from_y_true)\n",
    "\n",
    "  # number of tags recommend\n",
    "  nr = len(keys_from_y_scores)\n",
    "\n",
    "  if min(ng,nr) == 0:\n",
    "    if ng == nr:\n",
    "        return 1\n",
    "    else:\n",
    "        return 0\n",
    "  else:\n",
    "    return m / min(ng, nr)\n",
    "\n",
    "def hitk(y_true, y_scores, k = 1):\n",
    "  results = []\n",
    "  \n",
    "  for i in range(len(y_true)):\n",
    "    value = hitk_calculate(y_true[i], y_scores[i], k = k)\n",
    "  \n",
    "    results.append(value)\n",
    "\n",
    "  return np.mean(results)\n"
   ]
  },
  {
   "cell_type": "code",
   "execution_count": 3,
   "metadata": {},
   "outputs": [],
   "source": [
    "from sklearn.metrics import average_precision_score\n",
    "\n",
    "def ap(y_true, y_scores):\n",
    "  results = []\n",
    "  \n",
    "  for i in range(len(y_true)):\n",
    "    value = average_precision_score(y_true[i], y_scores[i])\n",
    "  \n",
    "    results.append(value)\n",
    "\n",
    "  return np.mean(results)"
   ]
  },
  {
   "cell_type": "markdown",
   "metadata": {},
   "source": [
    "## Pré processamento"
   ]
  },
  {
   "cell_type": "markdown",
   "metadata": {},
   "source": [
    "Carregando bibliotecas"
   ]
  },
  {
   "cell_type": "code",
   "execution_count": 4,
   "metadata": {
    "colab": {
     "base_uri": "https://localhost:8080/"
    },
    "id": "-2SaVkBjMir6",
    "outputId": "98536161-0960-43a0-f570-a4267b46d01f"
   },
   "outputs": [],
   "source": [
    "import pandas as pd\n",
    "import numpy as np"
   ]
  },
  {
   "cell_type": "markdown",
   "metadata": {},
   "source": [
    "Carregando base de dados"
   ]
  },
  {
   "cell_type": "code",
   "execution_count": 5,
   "metadata": {
    "colab": {
     "base_uri": "https://localhost:8080/",
     "height": 289
    },
    "id": "pYymyKF3uoky",
    "outputId": "af5f0962-bb28-4446-daef-8045a32aee78"
   },
   "outputs": [
    {
     "name": "stdout",
     "output_type": "stream",
     "text": [
      "Total Rows: 9397\n",
      "Total Columns: 9\n",
      "Columns: ['AdjustedTitle', 'ImagePath', 'Title', 'URL', 'Description', 'Tags', 'MicroName', 'Category', 'Content']\n"
     ]
    }
   ],
   "source": [
    "dt = pd.read_csv(\"Blogs.csv\")\n",
    "\n",
    "print('Total Rows: {}\\nTotal Columns: {}'.format(dt.shape[0], dt.shape[1]))\n",
    "print('Columns:', dt.columns.to_list())"
   ]
  },
  {
   "cell_type": "code",
   "execution_count": 6,
   "metadata": {},
   "outputs": [
    {
     "data": {
      "text/html": [
       "<div>\n",
       "<style scoped>\n",
       "    .dataframe tbody tr th:only-of-type {\n",
       "        vertical-align: middle;\n",
       "    }\n",
       "\n",
       "    .dataframe tbody tr th {\n",
       "        vertical-align: top;\n",
       "    }\n",
       "\n",
       "    .dataframe thead th {\n",
       "        text-align: right;\n",
       "    }\n",
       "</style>\n",
       "<table border=\"1\" class=\"dataframe\">\n",
       "  <thead>\n",
       "    <tr style=\"text-align: right;\">\n",
       "      <th></th>\n",
       "      <th>AdjustedTitle</th>\n",
       "      <th>ImagePath</th>\n",
       "      <th>Title</th>\n",
       "      <th>URL</th>\n",
       "      <th>Description</th>\n",
       "      <th>Tags</th>\n",
       "      <th>MicroName</th>\n",
       "      <th>Category</th>\n",
       "      <th>Content</th>\n",
       "    </tr>\n",
       "  </thead>\n",
       "  <tbody>\n",
       "    <tr>\n",
       "      <th>0</th>\n",
       "      <td>free diet plan from julia</td>\n",
       "      <td>Images/Free Diet Plan from Julia/1.jpg</td>\n",
       "      <td>Free Diet Plan from Julia</td>\n",
       "      <td>http://juliahavey.typepad.com</td>\n",
       "      <td>Opinions on diet plans, weight loss, nutrition...</td>\n",
       "      <td>effect;weighting;egress;publication;supply;off...</td>\n",
       "      <td>weight issues</td>\n",
       "      <td>Health</td>\n",
       "      <td>Free Diet Plan from Julia11 de jul. de 2011 — ...</td>\n",
       "    </tr>\n",
       "    <tr>\n",
       "      <th>1</th>\n",
       "      <td>retro gaming</td>\n",
       "      <td>Images/Retro Gaming/5.jpg</td>\n",
       "      <td>Retro Gaming</td>\n",
       "      <td>http://www.racketboy.com/</td>\n",
       "      <td>Notes and thoughts on video gaming with the ol...</td>\n",
       "      <td>sega;comfort;cabinet;console platforms;solace;...</td>\n",
       "      <td>console platforms</td>\n",
       "      <td>Entertainment</td>\n",
       "      <td>Top 90 Retro Gaming Blogs, Websites &amp; Influenc...</td>\n",
       "    </tr>\n",
       "    <tr>\n",
       "      <th>2</th>\n",
       "      <td>fancy pigeons india</td>\n",
       "      <td>Images/Fancy Pigeons India/5.jpg</td>\n",
       "      <td>Fancy Pigeons India</td>\n",
       "      <td>http://www.fancypigeonsindia.blogspot.com/</td>\n",
       "      <td>Offers posts on exhibitions, sales, rare breed...</td>\n",
       "      <td>deary;parrots;ducky;skirt;razzing;snort;favori...</td>\n",
       "      <td>birds</td>\n",
       "      <td>Pets</td>\n",
       "      <td>Fancy Pigeons India</td>\n",
       "    </tr>\n",
       "    <tr>\n",
       "      <th>3</th>\n",
       "      <td>bookish gardener</td>\n",
       "      <td>Images/Bookish Gardener/0.jpg</td>\n",
       "      <td>Bookish Gardener</td>\n",
       "      <td>http://fortyfour.typepad.com/bookishgardener/</td>\n",
       "      <td>Reviews of gardening books and general comment...</td>\n",
       "      <td>hobbies and lifestyle;falco subbuteo;life styl...</td>\n",
       "      <td>gardening</td>\n",
       "      <td>Hobbies and Lifestyle</td>\n",
       "      <td>Bookish Gardener9 de jan. de 2020 — occasional...</td>\n",
       "    </tr>\n",
       "    <tr>\n",
       "      <th>4</th>\n",
       "      <td>goatworld</td>\n",
       "      <td>Images/GoatWorld/1.jpg</td>\n",
       "      <td>GoatWorld</td>\n",
       "      <td>http://goatworld.com/</td>\n",
       "      <td>Presents current goat news topics and archives...</td>\n",
       "      <td>deary;ducky;stock;favorite;capricorn;united ki...</td>\n",
       "      <td>livestock goats</td>\n",
       "      <td>Pets</td>\n",
       "      <td>Welcome to GoatWorld - GOATWORLD.COMEducationa...</td>\n",
       "    </tr>\n",
       "  </tbody>\n",
       "</table>\n",
       "</div>"
      ],
      "text/plain": [
       "               AdjustedTitle                               ImagePath  \\\n",
       "0  free diet plan from julia  Images/Free Diet Plan from Julia/1.jpg   \n",
       "1               retro gaming               Images/Retro Gaming/5.jpg   \n",
       "2        fancy pigeons india        Images/Fancy Pigeons India/5.jpg   \n",
       "3           bookish gardener           Images/Bookish Gardener/0.jpg   \n",
       "4                  goatworld                  Images/GoatWorld/1.jpg   \n",
       "\n",
       "                       Title                                            URL  \\\n",
       "0  Free Diet Plan from Julia                  http://juliahavey.typepad.com   \n",
       "1               Retro Gaming                      http://www.racketboy.com/   \n",
       "2        Fancy Pigeons India     http://www.fancypigeonsindia.blogspot.com/   \n",
       "3           Bookish Gardener  http://fortyfour.typepad.com/bookishgardener/   \n",
       "4                  GoatWorld                          http://goatworld.com/   \n",
       "\n",
       "                                         Description  \\\n",
       "0  Opinions on diet plans, weight loss, nutrition...   \n",
       "1  Notes and thoughts on video gaming with the ol...   \n",
       "2  Offers posts on exhibitions, sales, rare breed...   \n",
       "3  Reviews of gardening books and general comment...   \n",
       "4  Presents current goat news topics and archives...   \n",
       "\n",
       "                                                Tags          MicroName  \\\n",
       "0  effect;weighting;egress;publication;supply;off...      weight issues   \n",
       "1  sega;comfort;cabinet;console platforms;solace;...  console platforms   \n",
       "2  deary;parrots;ducky;skirt;razzing;snort;favori...              birds   \n",
       "3  hobbies and lifestyle;falco subbuteo;life styl...          gardening   \n",
       "4  deary;ducky;stock;favorite;capricorn;united ki...    livestock goats   \n",
       "\n",
       "                Category                                            Content  \n",
       "0                 Health  Free Diet Plan from Julia11 de jul. de 2011 — ...  \n",
       "1          Entertainment  Top 90 Retro Gaming Blogs, Websites & Influenc...  \n",
       "2                   Pets                                Fancy Pigeons India  \n",
       "3  Hobbies and Lifestyle  Bookish Gardener9 de jan. de 2020 — occasional...  \n",
       "4                   Pets  Welcome to GoatWorld - GOATWORLD.COMEducationa...  "
      ]
     },
     "execution_count": 6,
     "metadata": {},
     "output_type": "execute_result"
    }
   ],
   "source": [
    "dt.head()"
   ]
  },
  {
   "cell_type": "markdown",
   "metadata": {},
   "source": [
    "Convertendo formato de tags de STRING para ARRAY"
   ]
  },
  {
   "cell_type": "code",
   "execution_count": 7,
   "metadata": {
    "id": "dIX_TkqVNmjc"
   },
   "outputs": [
    {
     "data": {
      "text/plain": [
       "(9397, 9)"
      ]
     },
     "execution_count": 7,
     "metadata": {},
     "output_type": "execute_result"
    }
   ],
   "source": [
    "dt.Tags = tags_list_to_array(dt.Tags)\n",
    "\n",
    "dt.shape"
   ]
  },
  {
   "cell_type": "markdown",
   "metadata": {},
   "source": [
    "Convertendo formato de tags de ARRAY de string para ARRAY binário"
   ]
  },
  {
   "cell_type": "code",
   "execution_count": 8,
   "metadata": {},
   "outputs": [
    {
     "data": {
      "text/plain": [
       "(9397, 3861)"
      ]
     },
     "execution_count": 8,
     "metadata": {},
     "output_type": "execute_result"
    }
   ],
   "source": [
    "y = transform_array_to_binary(dt.Tags)\n",
    "\n",
    "y.shape"
   ]
  },
  {
   "cell_type": "markdown",
   "metadata": {
    "id": "u9L5hf0gAhRw"
   },
   "source": [
    "## Modelo"
   ]
  },
  {
   "cell_type": "code",
   "execution_count": 9,
   "metadata": {},
   "outputs": [],
   "source": [
    "import cv2\n",
    "from tqdm import tqdm\n",
    "\n",
    "import tensorflow as tf\n",
    "import tensorflow_hub as hub\n",
    "import tensorflow_text"
   ]
  },
  {
   "cell_type": "markdown",
   "metadata": {
    "id": "iHVjcpGRvDh9"
   },
   "source": [
    "Extraindo embeddings das entradas "
   ]
  },
  {
   "cell_type": "code",
   "execution_count": 10,
   "metadata": {},
   "outputs": [],
   "source": [
    "\n",
    "def get_image_features(images_paths, embed):\n",
    "  images = []\n",
    "\n",
    "  for filename in tqdm(images_paths):\n",
    "    img = cv2.imread(filename)\n",
    "    img = cv2.cvtColor(img, cv2.COLOR_BGR2RGB)\n",
    "    img = cv2.resize(img, (224, 224)) \n",
    "    img = np.array(img, dtype=np.uint8)\n",
    "\n",
    "    images.append(img)\n",
    "   \n",
    "  return images\n",
    "  result = embed([images[0]])\n",
    "\n",
    "  for image in tqdm(images[1:]):\n",
    "    embeddings_image = embed([image])\n",
    "    result = tf.concat([result, embeddings_image], 0)\n",
    "      \n",
    "  return result.numpy()"
   ]
  },
  {
   "cell_type": "code",
   "execution_count": 11,
   "metadata": {},
   "outputs": [],
   "source": [
    "def get_text_features(texts, embed):\n",
    "  embeddings = embed(tf.constant([texts[0]]))\n",
    "\n",
    "  for text in tqdm(texts[1:]):\n",
    "    text = tf.constant([text])\n",
    "    tmp = embed(text)\n",
    "    embeddings = tf.concat([embeddings, tmp], 0)\n",
    "      \n",
    "  return embeddings.numpy()"
   ]
  },
  {
   "cell_type": "code",
   "execution_count": 13,
   "metadata": {
    "id": "jMhnMKbiAy7J"
   },
   "outputs": [
    {
     "ename": "InternalError",
     "evalue": "Failed copying input tensor from /job:localhost/replica:0/task:0/device:CPU:0 to /job:localhost/replica:0/task:0/device:GPU:0 in order to run Identity: Dst tensor is not initialized. [Op:Identity]",
     "output_type": "error",
     "traceback": [
      "\u001b[0;31m---------------------------------------------------------------------------\u001b[0m",
      "\u001b[0;31mInternalError\u001b[0m                             Traceback (most recent call last)",
      "\u001b[0;32m<ipython-input-13-9ada1b906dd8>\u001b[0m in \u001b[0;36m<module>\u001b[0;34m()\u001b[0m\n\u001b[1;32m      1\u001b[0m \u001b[0mmodule_url\u001b[0m \u001b[0;34m=\u001b[0m \u001b[0;34m\"https://tfhub.dev/google/universal-sentence-encoder-multilingual/3\"\u001b[0m\u001b[0;34m\u001b[0m\u001b[0;34m\u001b[0m\u001b[0m\n\u001b[0;32m----> 2\u001b[0;31m \u001b[0membed\u001b[0m \u001b[0;34m=\u001b[0m \u001b[0mhub\u001b[0m\u001b[0;34m.\u001b[0m\u001b[0mKerasLayer\u001b[0m\u001b[0;34m(\u001b[0m\u001b[0mmodule_url\u001b[0m\u001b[0;34m,\u001b[0m \u001b[0mtrainable\u001b[0m\u001b[0;34m=\u001b[0m\u001b[0;32mFalse\u001b[0m\u001b[0;34m,\u001b[0m \u001b[0mname\u001b[0m\u001b[0;34m=\u001b[0m\u001b[0;34m'USE_Embedding'\u001b[0m\u001b[0;34m)\u001b[0m\u001b[0;34m\u001b[0m\u001b[0;34m\u001b[0m\u001b[0m\n\u001b[0m",
      "\u001b[0;32m/usr/local/lib/python3.6/dist-packages/tensorflow_hub/keras_layer.py\u001b[0m in \u001b[0;36m__init__\u001b[0;34m(self, handle, trainable, arguments, _sentinel, tags, signature, signature_outputs_as_dict, output_key, output_shape, load_options, **kwargs)\u001b[0m\n\u001b[1;32m    158\u001b[0m \u001b[0;34m\u001b[0m\u001b[0m\n\u001b[1;32m    159\u001b[0m     \u001b[0mself\u001b[0m\u001b[0;34m.\u001b[0m\u001b[0m_load_options\u001b[0m \u001b[0;34m=\u001b[0m \u001b[0mload_options\u001b[0m\u001b[0;34m\u001b[0m\u001b[0;34m\u001b[0m\u001b[0m\n\u001b[0;32m--> 160\u001b[0;31m     \u001b[0mself\u001b[0m\u001b[0;34m.\u001b[0m\u001b[0m_func\u001b[0m \u001b[0;34m=\u001b[0m \u001b[0mload_module\u001b[0m\u001b[0;34m(\u001b[0m\u001b[0mhandle\u001b[0m\u001b[0;34m,\u001b[0m \u001b[0mtags\u001b[0m\u001b[0;34m,\u001b[0m \u001b[0mself\u001b[0m\u001b[0;34m.\u001b[0m\u001b[0m_load_options\u001b[0m\u001b[0;34m)\u001b[0m\u001b[0;34m\u001b[0m\u001b[0;34m\u001b[0m\u001b[0m\n\u001b[0m\u001b[1;32m    161\u001b[0m     \u001b[0mself\u001b[0m\u001b[0;34m.\u001b[0m\u001b[0m_has_training_argument\u001b[0m \u001b[0;34m=\u001b[0m \u001b[0mfunc_has_training_argument\u001b[0m\u001b[0;34m(\u001b[0m\u001b[0mself\u001b[0m\u001b[0;34m.\u001b[0m\u001b[0m_func\u001b[0m\u001b[0;34m)\u001b[0m\u001b[0;34m\u001b[0m\u001b[0;34m\u001b[0m\u001b[0m\n\u001b[1;32m    162\u001b[0m     \u001b[0mself\u001b[0m\u001b[0;34m.\u001b[0m\u001b[0m_is_hub_module_v1\u001b[0m \u001b[0;34m=\u001b[0m \u001b[0mgetattr\u001b[0m\u001b[0;34m(\u001b[0m\u001b[0mself\u001b[0m\u001b[0;34m.\u001b[0m\u001b[0m_func\u001b[0m\u001b[0;34m,\u001b[0m \u001b[0;34m\"_is_hub_module_v1\"\u001b[0m\u001b[0;34m,\u001b[0m \u001b[0;32mFalse\u001b[0m\u001b[0;34m)\u001b[0m\u001b[0;34m\u001b[0m\u001b[0;34m\u001b[0m\u001b[0m\n",
      "\u001b[0;32m/usr/local/lib/python3.6/dist-packages/tensorflow_hub/keras_layer.py\u001b[0m in \u001b[0;36mload_module\u001b[0;34m(handle, tags, load_options)\u001b[0m\n\u001b[1;32m    427\u001b[0m     \u001b[0;32mexcept\u001b[0m \u001b[0mImportError\u001b[0m\u001b[0;34m:\u001b[0m\u001b[0;34m\u001b[0m\u001b[0;34m\u001b[0m\u001b[0m\n\u001b[1;32m    428\u001b[0m       \u001b[0mset_load_options\u001b[0m \u001b[0;34m=\u001b[0m \u001b[0mload_options\u001b[0m\u001b[0;34m\u001b[0m\u001b[0;34m\u001b[0m\u001b[0m\n\u001b[0;32m--> 429\u001b[0;31m     \u001b[0;32mreturn\u001b[0m \u001b[0mmodule_v2\u001b[0m\u001b[0;34m.\u001b[0m\u001b[0mload\u001b[0m\u001b[0;34m(\u001b[0m\u001b[0mhandle\u001b[0m\u001b[0;34m,\u001b[0m \u001b[0mtags\u001b[0m\u001b[0;34m=\u001b[0m\u001b[0mtags\u001b[0m\u001b[0;34m,\u001b[0m \u001b[0moptions\u001b[0m\u001b[0;34m=\u001b[0m\u001b[0mset_load_options\u001b[0m\u001b[0;34m)\u001b[0m\u001b[0;34m\u001b[0m\u001b[0;34m\u001b[0m\u001b[0m\n\u001b[0m\u001b[1;32m    430\u001b[0m \u001b[0;34m\u001b[0m\u001b[0m\n\u001b[1;32m    431\u001b[0m \u001b[0;34m\u001b[0m\u001b[0m\n",
      "\u001b[0;32m/usr/local/lib/python3.6/dist-packages/tensorflow_hub/module_v2.py\u001b[0m in \u001b[0;36mload\u001b[0;34m(handle, tags, options)\u001b[0m\n\u001b[1;32m    112\u001b[0m         module_path, tags=tags, options=options)\n\u001b[1;32m    113\u001b[0m   \u001b[0;32melse\u001b[0m\u001b[0;34m:\u001b[0m\u001b[0;34m\u001b[0m\u001b[0;34m\u001b[0m\u001b[0m\n\u001b[0;32m--> 114\u001b[0;31m     \u001b[0mobj\u001b[0m \u001b[0;34m=\u001b[0m \u001b[0mtf_v1\u001b[0m\u001b[0;34m.\u001b[0m\u001b[0msaved_model\u001b[0m\u001b[0;34m.\u001b[0m\u001b[0mload_v2\u001b[0m\u001b[0;34m(\u001b[0m\u001b[0mmodule_path\u001b[0m\u001b[0;34m,\u001b[0m \u001b[0mtags\u001b[0m\u001b[0;34m=\u001b[0m\u001b[0mtags\u001b[0m\u001b[0;34m)\u001b[0m\u001b[0;34m\u001b[0m\u001b[0;34m\u001b[0m\u001b[0m\n\u001b[0m\u001b[1;32m    115\u001b[0m   \u001b[0mobj\u001b[0m\u001b[0;34m.\u001b[0m\u001b[0m_is_hub_module_v1\u001b[0m \u001b[0;34m=\u001b[0m \u001b[0mis_hub_module_v1\u001b[0m  \u001b[0;31m# pylint: disable=protected-access\u001b[0m\u001b[0;34m\u001b[0m\u001b[0;34m\u001b[0m\u001b[0m\n\u001b[1;32m    116\u001b[0m   \u001b[0;32mreturn\u001b[0m \u001b[0mobj\u001b[0m\u001b[0;34m\u001b[0m\u001b[0;34m\u001b[0m\u001b[0m\n",
      "\u001b[0;32m/usr/local/lib/python3.6/dist-packages/tensorflow/python/saved_model/load.py\u001b[0m in \u001b[0;36mload\u001b[0;34m(export_dir, tags, options)\u001b[0m\n\u001b[1;32m    601\u001b[0m     \u001b[0mValueError\u001b[0m\u001b[0;34m:\u001b[0m \u001b[0mIf\u001b[0m\u001b[0;31m \u001b[0m\u001b[0;31m`\u001b[0m\u001b[0mtags\u001b[0m\u001b[0;31m`\u001b[0m \u001b[0mdon\u001b[0m\u001b[0;31m'\u001b[0m\u001b[0mt\u001b[0m \u001b[0mmatch\u001b[0m \u001b[0ma\u001b[0m \u001b[0mMetaGraph\u001b[0m \u001b[0;32min\u001b[0m \u001b[0mthe\u001b[0m \u001b[0mSavedModel\u001b[0m\u001b[0;34m.\u001b[0m\u001b[0;34m\u001b[0m\u001b[0;34m\u001b[0m\u001b[0m\n\u001b[1;32m    602\u001b[0m   \"\"\"\n\u001b[0;32m--> 603\u001b[0;31m   \u001b[0;32mreturn\u001b[0m \u001b[0mload_internal\u001b[0m\u001b[0;34m(\u001b[0m\u001b[0mexport_dir\u001b[0m\u001b[0;34m,\u001b[0m \u001b[0mtags\u001b[0m\u001b[0;34m,\u001b[0m \u001b[0moptions\u001b[0m\u001b[0;34m)\u001b[0m\u001b[0;34m\u001b[0m\u001b[0;34m\u001b[0m\u001b[0m\n\u001b[0m\u001b[1;32m    604\u001b[0m \u001b[0;34m\u001b[0m\u001b[0m\n\u001b[1;32m    605\u001b[0m \u001b[0;34m\u001b[0m\u001b[0m\n",
      "\u001b[0;32m/usr/local/lib/python3.6/dist-packages/tensorflow/python/saved_model/load.py\u001b[0m in \u001b[0;36mload_internal\u001b[0;34m(export_dir, tags, options, loader_cls)\u001b[0m\n\u001b[1;32m    631\u001b[0m       \u001b[0;32mtry\u001b[0m\u001b[0;34m:\u001b[0m\u001b[0;34m\u001b[0m\u001b[0;34m\u001b[0m\u001b[0m\n\u001b[1;32m    632\u001b[0m         loader = loader_cls(object_graph_proto, saved_model_proto, export_dir,\n\u001b[0;32m--> 633\u001b[0;31m                             ckpt_options)\n\u001b[0m\u001b[1;32m    634\u001b[0m       \u001b[0;32mexcept\u001b[0m \u001b[0merrors\u001b[0m\u001b[0;34m.\u001b[0m\u001b[0mNotFoundError\u001b[0m \u001b[0;32mas\u001b[0m \u001b[0merr\u001b[0m\u001b[0;34m:\u001b[0m\u001b[0;34m\u001b[0m\u001b[0;34m\u001b[0m\u001b[0m\n\u001b[1;32m    635\u001b[0m         raise FileNotFoundError(\n",
      "\u001b[0;32m/usr/local/lib/python3.6/dist-packages/tensorflow/python/saved_model/load.py\u001b[0m in \u001b[0;36m__init__\u001b[0;34m(self, object_graph_proto, saved_model_proto, export_dir, ckpt_options)\u001b[0m\n\u001b[1;32m    129\u001b[0m \u001b[0;34m\u001b[0m\u001b[0m\n\u001b[1;32m    130\u001b[0m     \u001b[0mself\u001b[0m\u001b[0;34m.\u001b[0m\u001b[0m_load_all\u001b[0m\u001b[0;34m(\u001b[0m\u001b[0;34m)\u001b[0m\u001b[0;34m\u001b[0m\u001b[0;34m\u001b[0m\u001b[0m\n\u001b[0;32m--> 131\u001b[0;31m     \u001b[0mself\u001b[0m\u001b[0;34m.\u001b[0m\u001b[0m_restore_checkpoint\u001b[0m\u001b[0;34m(\u001b[0m\u001b[0;34m)\u001b[0m\u001b[0;34m\u001b[0m\u001b[0;34m\u001b[0m\u001b[0m\n\u001b[0m\u001b[1;32m    132\u001b[0m \u001b[0;34m\u001b[0m\u001b[0m\n\u001b[1;32m    133\u001b[0m     \u001b[0;32mfor\u001b[0m \u001b[0mnode\u001b[0m \u001b[0;32min\u001b[0m \u001b[0mself\u001b[0m\u001b[0;34m.\u001b[0m\u001b[0m_nodes\u001b[0m\u001b[0;34m:\u001b[0m\u001b[0;34m\u001b[0m\u001b[0;34m\u001b[0m\u001b[0m\n",
      "\u001b[0;32m/usr/local/lib/python3.6/dist-packages/tensorflow/python/saved_model/load.py\u001b[0m in \u001b[0;36m_restore_checkpoint\u001b[0;34m(self)\u001b[0m\n\u001b[1;32m    328\u001b[0m                                   self._checkpoint_options).expect_partial()\n\u001b[1;32m    329\u001b[0m     \u001b[0;32melse\u001b[0m\u001b[0;34m:\u001b[0m\u001b[0;34m\u001b[0m\u001b[0;34m\u001b[0m\u001b[0m\n\u001b[0;32m--> 330\u001b[0;31m       \u001b[0mload_status\u001b[0m \u001b[0;34m=\u001b[0m \u001b[0msaver\u001b[0m\u001b[0;34m.\u001b[0m\u001b[0mrestore\u001b[0m\u001b[0;34m(\u001b[0m\u001b[0mvariables_path\u001b[0m\u001b[0;34m,\u001b[0m \u001b[0mself\u001b[0m\u001b[0;34m.\u001b[0m\u001b[0m_checkpoint_options\u001b[0m\u001b[0;34m)\u001b[0m\u001b[0;34m\u001b[0m\u001b[0;34m\u001b[0m\u001b[0m\n\u001b[0m\u001b[1;32m    331\u001b[0m     \u001b[0mload_status\u001b[0m\u001b[0;34m.\u001b[0m\u001b[0massert_existing_objects_matched\u001b[0m\u001b[0;34m(\u001b[0m\u001b[0;34m)\u001b[0m\u001b[0;34m\u001b[0m\u001b[0;34m\u001b[0m\u001b[0m\n\u001b[1;32m    332\u001b[0m     \u001b[0mcheckpoint\u001b[0m \u001b[0;34m=\u001b[0m \u001b[0mload_status\u001b[0m\u001b[0;34m.\u001b[0m\u001b[0m_checkpoint\u001b[0m\u001b[0;34m\u001b[0m\u001b[0;34m\u001b[0m\u001b[0m\n",
      "\u001b[0;32m/usr/local/lib/python3.6/dist-packages/tensorflow/python/training/tracking/util.py\u001b[0m in \u001b[0;36mrestore\u001b[0;34m(self, save_path, options)\u001b[0m\n\u001b[1;32m   1318\u001b[0m         options=options)\n\u001b[1;32m   1319\u001b[0m     base.CheckpointPosition(\n\u001b[0;32m-> 1320\u001b[0;31m         checkpoint=checkpoint, proto_id=0).restore(self._graph_view.root)\n\u001b[0m\u001b[1;32m   1321\u001b[0m     load_status = CheckpointLoadStatus(\n\u001b[1;32m   1322\u001b[0m         \u001b[0mcheckpoint\u001b[0m\u001b[0;34m,\u001b[0m\u001b[0;34m\u001b[0m\u001b[0;34m\u001b[0m\u001b[0m\n",
      "\u001b[0;32m/usr/local/lib/python3.6/dist-packages/tensorflow/python/training/tracking/base.py\u001b[0m in \u001b[0;36mrestore\u001b[0;34m(self, trackable)\u001b[0m\n\u001b[1;32m    207\u001b[0m         \u001b[0;31m# This object's correspondence with a checkpointed object is new, so\u001b[0m\u001b[0;34m\u001b[0m\u001b[0;34m\u001b[0m\u001b[0;34m\u001b[0m\u001b[0m\n\u001b[1;32m    208\u001b[0m         \u001b[0;31m# process deferred restorations for it and its dependencies.\u001b[0m\u001b[0;34m\u001b[0m\u001b[0;34m\u001b[0m\u001b[0;34m\u001b[0m\u001b[0m\n\u001b[0;32m--> 209\u001b[0;31m         \u001b[0mrestore_ops\u001b[0m \u001b[0;34m=\u001b[0m \u001b[0mtrackable\u001b[0m\u001b[0;34m.\u001b[0m\u001b[0m_restore_from_checkpoint_position\u001b[0m\u001b[0;34m(\u001b[0m\u001b[0mself\u001b[0m\u001b[0;34m)\u001b[0m  \u001b[0;31m# pylint: disable=protected-access\u001b[0m\u001b[0;34m\u001b[0m\u001b[0;34m\u001b[0m\u001b[0m\n\u001b[0m\u001b[1;32m    210\u001b[0m         \u001b[0;32mif\u001b[0m \u001b[0mrestore_ops\u001b[0m\u001b[0;34m:\u001b[0m\u001b[0;34m\u001b[0m\u001b[0;34m\u001b[0m\u001b[0m\n\u001b[1;32m    211\u001b[0m           \u001b[0mself\u001b[0m\u001b[0;34m.\u001b[0m\u001b[0m_checkpoint\u001b[0m\u001b[0;34m.\u001b[0m\u001b[0mnew_restore_ops\u001b[0m\u001b[0;34m(\u001b[0m\u001b[0mrestore_ops\u001b[0m\u001b[0;34m)\u001b[0m\u001b[0;34m\u001b[0m\u001b[0;34m\u001b[0m\u001b[0m\n",
      "\u001b[0;32m/usr/local/lib/python3.6/dist-packages/tensorflow/python/training/tracking/base.py\u001b[0m in \u001b[0;36m_restore_from_checkpoint_position\u001b[0;34m(self, checkpoint_position)\u001b[0m\n\u001b[1;32m    912\u001b[0m     restore_ops.extend(\n\u001b[1;32m    913\u001b[0m         current_position.checkpoint.restore_saveables(\n\u001b[0;32m--> 914\u001b[0;31m             tensor_saveables, python_saveables))\n\u001b[0m\u001b[1;32m    915\u001b[0m     \u001b[0;32mreturn\u001b[0m \u001b[0mrestore_ops\u001b[0m\u001b[0;34m\u001b[0m\u001b[0;34m\u001b[0m\u001b[0m\n\u001b[1;32m    916\u001b[0m \u001b[0;34m\u001b[0m\u001b[0m\n",
      "\u001b[0;32m/usr/local/lib/python3.6/dist-packages/tensorflow/python/training/tracking/util.py\u001b[0m in \u001b[0;36mrestore_saveables\u001b[0;34m(self, tensor_saveables, python_saveables)\u001b[0m\n\u001b[1;32m    295\u001b[0m              \"expecting %s\") % (tensor_saveables.keys(), validated_names))\n\u001b[1;32m    296\u001b[0m       new_restore_ops = functional_saver.MultiDeviceSaver(\n\u001b[0;32m--> 297\u001b[0;31m           validated_saveables).restore(self.save_path_tensor, self.options)\n\u001b[0m\u001b[1;32m    298\u001b[0m       \u001b[0;32mif\u001b[0m \u001b[0;32mnot\u001b[0m \u001b[0mcontext\u001b[0m\u001b[0;34m.\u001b[0m\u001b[0mexecuting_eagerly\u001b[0m\u001b[0;34m(\u001b[0m\u001b[0;34m)\u001b[0m\u001b[0;34m:\u001b[0m\u001b[0;34m\u001b[0m\u001b[0;34m\u001b[0m\u001b[0m\n\u001b[1;32m    299\u001b[0m         \u001b[0;32mfor\u001b[0m \u001b[0mname\u001b[0m\u001b[0;34m,\u001b[0m \u001b[0mrestore_op\u001b[0m \u001b[0;32min\u001b[0m \u001b[0msorted\u001b[0m\u001b[0;34m(\u001b[0m\u001b[0mnew_restore_ops\u001b[0m\u001b[0;34m.\u001b[0m\u001b[0mitems\u001b[0m\u001b[0;34m(\u001b[0m\u001b[0;34m)\u001b[0m\u001b[0;34m)\u001b[0m\u001b[0;34m:\u001b[0m\u001b[0;34m\u001b[0m\u001b[0;34m\u001b[0m\u001b[0m\n",
      "\u001b[0;32m/usr/local/lib/python3.6/dist-packages/tensorflow/python/training/saving/functional_saver.py\u001b[0m in \u001b[0;36mrestore\u001b[0;34m(self, file_prefix, options)\u001b[0m\n\u001b[1;32m    338\u001b[0m       \u001b[0mrestore_ops\u001b[0m \u001b[0;34m=\u001b[0m \u001b[0mtf_function_restore\u001b[0m\u001b[0;34m(\u001b[0m\u001b[0;34m)\u001b[0m\u001b[0;34m\u001b[0m\u001b[0;34m\u001b[0m\u001b[0m\n\u001b[1;32m    339\u001b[0m     \u001b[0;32melse\u001b[0m\u001b[0;34m:\u001b[0m\u001b[0;34m\u001b[0m\u001b[0;34m\u001b[0m\u001b[0m\n\u001b[0;32m--> 340\u001b[0;31m       \u001b[0mrestore_ops\u001b[0m \u001b[0;34m=\u001b[0m \u001b[0mrestore_fn\u001b[0m\u001b[0;34m(\u001b[0m\u001b[0;34m)\u001b[0m\u001b[0;34m\u001b[0m\u001b[0;34m\u001b[0m\u001b[0m\n\u001b[0m\u001b[1;32m    341\u001b[0m \u001b[0;34m\u001b[0m\u001b[0m\n\u001b[1;32m    342\u001b[0m     \u001b[0;32mfor\u001b[0m \u001b[0mcallback\u001b[0m \u001b[0;32min\u001b[0m \u001b[0mself\u001b[0m\u001b[0;34m.\u001b[0m\u001b[0m_after_restore_callbacks\u001b[0m\u001b[0;34m:\u001b[0m\u001b[0;34m\u001b[0m\u001b[0;34m\u001b[0m\u001b[0m\n",
      "\u001b[0;32m/usr/local/lib/python3.6/dist-packages/tensorflow/python/training/saving/functional_saver.py\u001b[0m in \u001b[0;36mrestore_fn\u001b[0;34m()\u001b[0m\n\u001b[1;32m    314\u001b[0m       \u001b[0;32mfor\u001b[0m \u001b[0mdevice\u001b[0m\u001b[0;34m,\u001b[0m \u001b[0msaver\u001b[0m \u001b[0;32min\u001b[0m \u001b[0msorted\u001b[0m\u001b[0;34m(\u001b[0m\u001b[0mself\u001b[0m\u001b[0;34m.\u001b[0m\u001b[0m_single_device_savers\u001b[0m\u001b[0;34m.\u001b[0m\u001b[0mitems\u001b[0m\u001b[0;34m(\u001b[0m\u001b[0;34m)\u001b[0m\u001b[0;34m)\u001b[0m\u001b[0;34m:\u001b[0m\u001b[0;34m\u001b[0m\u001b[0;34m\u001b[0m\u001b[0m\n\u001b[1;32m    315\u001b[0m         \u001b[0;32mwith\u001b[0m \u001b[0mops\u001b[0m\u001b[0;34m.\u001b[0m\u001b[0mdevice\u001b[0m\u001b[0;34m(\u001b[0m\u001b[0mdevice\u001b[0m\u001b[0;34m)\u001b[0m\u001b[0;34m:\u001b[0m\u001b[0;34m\u001b[0m\u001b[0;34m\u001b[0m\u001b[0m\n\u001b[0;32m--> 316\u001b[0;31m           \u001b[0mrestore_ops\u001b[0m\u001b[0;34m.\u001b[0m\u001b[0mupdate\u001b[0m\u001b[0;34m(\u001b[0m\u001b[0msaver\u001b[0m\u001b[0;34m.\u001b[0m\u001b[0mrestore\u001b[0m\u001b[0;34m(\u001b[0m\u001b[0mfile_prefix\u001b[0m\u001b[0;34m,\u001b[0m \u001b[0moptions\u001b[0m\u001b[0;34m)\u001b[0m\u001b[0;34m)\u001b[0m\u001b[0;34m\u001b[0m\u001b[0;34m\u001b[0m\u001b[0m\n\u001b[0m\u001b[1;32m    317\u001b[0m \u001b[0;34m\u001b[0m\u001b[0m\n\u001b[1;32m    318\u001b[0m       \u001b[0;32mreturn\u001b[0m \u001b[0mrestore_ops\u001b[0m\u001b[0;34m\u001b[0m\u001b[0;34m\u001b[0m\u001b[0m\n",
      "\u001b[0;32m/usr/local/lib/python3.6/dist-packages/tensorflow/python/training/saving/functional_saver.py\u001b[0m in \u001b[0;36mrestore\u001b[0;34m(self, file_prefix, options)\u001b[0m\n\u001b[1;32m    109\u001b[0m                                           structured_restored_tensors):\n\u001b[1;32m    110\u001b[0m       restore_ops[saveable.name] = saveable.restore(\n\u001b[0;32m--> 111\u001b[0;31m           restored_tensors, restored_shapes=None)\n\u001b[0m\u001b[1;32m    112\u001b[0m     \u001b[0;32mreturn\u001b[0m \u001b[0mrestore_ops\u001b[0m\u001b[0;34m\u001b[0m\u001b[0;34m\u001b[0m\u001b[0m\n\u001b[1;32m    113\u001b[0m \u001b[0;34m\u001b[0m\u001b[0m\n",
      "\u001b[0;32m/usr/local/lib/python3.6/dist-packages/tensorflow/python/training/saving/saveable_object_util.py\u001b[0m in \u001b[0;36mrestore\u001b[0;34m(self, restored_tensors, restored_shapes)\u001b[0m\n\u001b[1;32m    123\u001b[0m     \u001b[0;31m# Copy the restored tensor to the variable's device.\u001b[0m\u001b[0;34m\u001b[0m\u001b[0;34m\u001b[0m\u001b[0;34m\u001b[0m\u001b[0m\n\u001b[1;32m    124\u001b[0m     \u001b[0;32mwith\u001b[0m \u001b[0mops\u001b[0m\u001b[0;34m.\u001b[0m\u001b[0mdevice\u001b[0m\u001b[0;34m(\u001b[0m\u001b[0mself\u001b[0m\u001b[0;34m.\u001b[0m\u001b[0m_var_device\u001b[0m\u001b[0;34m)\u001b[0m\u001b[0;34m:\u001b[0m\u001b[0;34m\u001b[0m\u001b[0;34m\u001b[0m\u001b[0m\n\u001b[0;32m--> 125\u001b[0;31m       \u001b[0mrestored_tensor\u001b[0m \u001b[0;34m=\u001b[0m \u001b[0marray_ops\u001b[0m\u001b[0;34m.\u001b[0m\u001b[0midentity\u001b[0m\u001b[0;34m(\u001b[0m\u001b[0mrestored_tensor\u001b[0m\u001b[0;34m)\u001b[0m\u001b[0;34m\u001b[0m\u001b[0;34m\u001b[0m\u001b[0m\n\u001b[0m\u001b[1;32m    126\u001b[0m       return resource_variable_ops.shape_safe_assign_variable_handle(\n\u001b[1;32m    127\u001b[0m           self.handle_op, self._var_shape, restored_tensor)\n",
      "\u001b[0;32m/usr/local/lib/python3.6/dist-packages/tensorflow/python/util/dispatch.py\u001b[0m in \u001b[0;36mwrapper\u001b[0;34m(*args, **kwargs)\u001b[0m\n\u001b[1;32m    199\u001b[0m     \u001b[0;34m\"\"\"Call target, and fall back on dispatchers if there is a TypeError.\"\"\"\u001b[0m\u001b[0;34m\u001b[0m\u001b[0;34m\u001b[0m\u001b[0m\n\u001b[1;32m    200\u001b[0m     \u001b[0;32mtry\u001b[0m\u001b[0;34m:\u001b[0m\u001b[0;34m\u001b[0m\u001b[0;34m\u001b[0m\u001b[0m\n\u001b[0;32m--> 201\u001b[0;31m       \u001b[0;32mreturn\u001b[0m \u001b[0mtarget\u001b[0m\u001b[0;34m(\u001b[0m\u001b[0;34m*\u001b[0m\u001b[0margs\u001b[0m\u001b[0;34m,\u001b[0m \u001b[0;34m**\u001b[0m\u001b[0mkwargs\u001b[0m\u001b[0;34m)\u001b[0m\u001b[0;34m\u001b[0m\u001b[0;34m\u001b[0m\u001b[0m\n\u001b[0m\u001b[1;32m    202\u001b[0m     \u001b[0;32mexcept\u001b[0m \u001b[0;34m(\u001b[0m\u001b[0mTypeError\u001b[0m\u001b[0;34m,\u001b[0m \u001b[0mValueError\u001b[0m\u001b[0;34m)\u001b[0m\u001b[0;34m:\u001b[0m\u001b[0;34m\u001b[0m\u001b[0;34m\u001b[0m\u001b[0m\n\u001b[1;32m    203\u001b[0m       \u001b[0;31m# Note: convert_to_eager_tensor currently raises a ValueError, not a\u001b[0m\u001b[0;34m\u001b[0m\u001b[0;34m\u001b[0m\u001b[0;34m\u001b[0m\u001b[0m\n",
      "\u001b[0;32m/usr/local/lib/python3.6/dist-packages/tensorflow/python/ops/array_ops.py\u001b[0m in \u001b[0;36midentity\u001b[0;34m(input, name)\u001b[0m\n\u001b[1;32m    285\u001b[0m     \u001b[0;31m# variables. Variables have correct handle data when graph building.\u001b[0m\u001b[0;34m\u001b[0m\u001b[0;34m\u001b[0m\u001b[0;34m\u001b[0m\u001b[0m\n\u001b[1;32m    286\u001b[0m     \u001b[0minput\u001b[0m \u001b[0;34m=\u001b[0m \u001b[0mops\u001b[0m\u001b[0;34m.\u001b[0m\u001b[0mconvert_to_tensor\u001b[0m\u001b[0;34m(\u001b[0m\u001b[0minput\u001b[0m\u001b[0;34m)\u001b[0m\u001b[0;34m\u001b[0m\u001b[0;34m\u001b[0m\u001b[0m\n\u001b[0;32m--> 287\u001b[0;31m   \u001b[0mret\u001b[0m \u001b[0;34m=\u001b[0m \u001b[0mgen_array_ops\u001b[0m\u001b[0;34m.\u001b[0m\u001b[0midentity\u001b[0m\u001b[0;34m(\u001b[0m\u001b[0minput\u001b[0m\u001b[0;34m,\u001b[0m \u001b[0mname\u001b[0m\u001b[0;34m=\u001b[0m\u001b[0mname\u001b[0m\u001b[0;34m)\u001b[0m\u001b[0;34m\u001b[0m\u001b[0;34m\u001b[0m\u001b[0m\n\u001b[0m\u001b[1;32m    288\u001b[0m   \u001b[0;31m# Propagate handle data for happier shape inference for resource variables.\u001b[0m\u001b[0;34m\u001b[0m\u001b[0;34m\u001b[0m\u001b[0;34m\u001b[0m\u001b[0m\n\u001b[1;32m    289\u001b[0m   \u001b[0;32mif\u001b[0m \u001b[0mhasattr\u001b[0m\u001b[0;34m(\u001b[0m\u001b[0minput\u001b[0m\u001b[0;34m,\u001b[0m \u001b[0;34m\"_handle_data\"\u001b[0m\u001b[0;34m)\u001b[0m\u001b[0;34m:\u001b[0m\u001b[0;34m\u001b[0m\u001b[0;34m\u001b[0m\u001b[0m\n",
      "\u001b[0;32m/usr/local/lib/python3.6/dist-packages/tensorflow/python/ops/gen_array_ops.py\u001b[0m in \u001b[0;36midentity\u001b[0;34m(input, name)\u001b[0m\n\u001b[1;32m   3990\u001b[0m       \u001b[0;32mreturn\u001b[0m \u001b[0m_result\u001b[0m\u001b[0;34m\u001b[0m\u001b[0;34m\u001b[0m\u001b[0m\n\u001b[1;32m   3991\u001b[0m     \u001b[0;32mexcept\u001b[0m \u001b[0m_core\u001b[0m\u001b[0;34m.\u001b[0m\u001b[0m_NotOkStatusException\u001b[0m \u001b[0;32mas\u001b[0m \u001b[0me\u001b[0m\u001b[0;34m:\u001b[0m\u001b[0;34m\u001b[0m\u001b[0;34m\u001b[0m\u001b[0m\n\u001b[0;32m-> 3992\u001b[0;31m       \u001b[0m_ops\u001b[0m\u001b[0;34m.\u001b[0m\u001b[0mraise_from_not_ok_status\u001b[0m\u001b[0;34m(\u001b[0m\u001b[0me\u001b[0m\u001b[0;34m,\u001b[0m \u001b[0mname\u001b[0m\u001b[0;34m)\u001b[0m\u001b[0;34m\u001b[0m\u001b[0;34m\u001b[0m\u001b[0m\n\u001b[0m\u001b[1;32m   3993\u001b[0m     \u001b[0;32mexcept\u001b[0m \u001b[0m_core\u001b[0m\u001b[0;34m.\u001b[0m\u001b[0m_FallbackException\u001b[0m\u001b[0;34m:\u001b[0m\u001b[0;34m\u001b[0m\u001b[0;34m\u001b[0m\u001b[0m\n\u001b[1;32m   3994\u001b[0m       \u001b[0;32mpass\u001b[0m\u001b[0;34m\u001b[0m\u001b[0;34m\u001b[0m\u001b[0m\n",
      "\u001b[0;32m/usr/local/lib/python3.6/dist-packages/tensorflow/python/framework/ops.py\u001b[0m in \u001b[0;36mraise_from_not_ok_status\u001b[0;34m(e, name)\u001b[0m\n\u001b[1;32m   6841\u001b[0m   \u001b[0mmessage\u001b[0m \u001b[0;34m=\u001b[0m \u001b[0me\u001b[0m\u001b[0;34m.\u001b[0m\u001b[0mmessage\u001b[0m \u001b[0;34m+\u001b[0m \u001b[0;34m(\u001b[0m\u001b[0;34m\" name: \"\u001b[0m \u001b[0;34m+\u001b[0m \u001b[0mname\u001b[0m \u001b[0;32mif\u001b[0m \u001b[0mname\u001b[0m \u001b[0;32mis\u001b[0m \u001b[0;32mnot\u001b[0m \u001b[0;32mNone\u001b[0m \u001b[0;32melse\u001b[0m \u001b[0;34m\"\"\u001b[0m\u001b[0;34m)\u001b[0m\u001b[0;34m\u001b[0m\u001b[0;34m\u001b[0m\u001b[0m\n\u001b[1;32m   6842\u001b[0m   \u001b[0;31m# pylint: disable=protected-access\u001b[0m\u001b[0;34m\u001b[0m\u001b[0;34m\u001b[0m\u001b[0;34m\u001b[0m\u001b[0m\n\u001b[0;32m-> 6843\u001b[0;31m   \u001b[0msix\u001b[0m\u001b[0;34m.\u001b[0m\u001b[0mraise_from\u001b[0m\u001b[0;34m(\u001b[0m\u001b[0mcore\u001b[0m\u001b[0;34m.\u001b[0m\u001b[0m_status_to_exception\u001b[0m\u001b[0;34m(\u001b[0m\u001b[0me\u001b[0m\u001b[0;34m.\u001b[0m\u001b[0mcode\u001b[0m\u001b[0;34m,\u001b[0m \u001b[0mmessage\u001b[0m\u001b[0;34m)\u001b[0m\u001b[0;34m,\u001b[0m \u001b[0;32mNone\u001b[0m\u001b[0;34m)\u001b[0m\u001b[0;34m\u001b[0m\u001b[0;34m\u001b[0m\u001b[0m\n\u001b[0m\u001b[1;32m   6844\u001b[0m   \u001b[0;31m# pylint: enable=protected-access\u001b[0m\u001b[0;34m\u001b[0m\u001b[0;34m\u001b[0m\u001b[0;34m\u001b[0m\u001b[0m\n\u001b[1;32m   6845\u001b[0m \u001b[0;34m\u001b[0m\u001b[0m\n",
      "\u001b[0;32m/usr/local/lib/python3.6/dist-packages/six.py\u001b[0m in \u001b[0;36mraise_from\u001b[0;34m(value, from_value)\u001b[0m\n",
      "\u001b[0;31mInternalError\u001b[0m: Failed copying input tensor from /job:localhost/replica:0/task:0/device:CPU:0 to /job:localhost/replica:0/task:0/device:GPU:0 in order to run Identity: Dst tensor is not initialized. [Op:Identity]"
     ]
    }
   ],
   "source": [
    "module_url = \"https://tfhub.dev/google/universal-sentence-encoder-multilingual/3\"\n",
    "embed = hub.KerasLayer(module_url, trainable=False, name='USE_Embedding')"
   ]
  },
  {
   "cell_type": "code",
   "execution_count": null,
   "metadata": {},
   "outputs": [],
   "source": [
    "module_url = \"https://tfhub.dev/google/imagenet/inception_v1/feature_vector/5\"\n",
    "INCEPTION_embed = hub.KerasLayer(module_url, trainable=False, name=\"Inception_Embedding\")"
   ]
  },
  {
   "cell_type": "code",
   "execution_count": null,
   "metadata": {
    "id": "4wPxMZoMBee8"
   },
   "outputs": [],
   "source": [
    "titles_embeddings = embed(dt.Title.apply(str).to_list())\n",
    "titles_embeddings = titles_embeddings.numpy()"
   ]
  },
  {
   "cell_type": "code",
   "execution_count": 11,
   "metadata": {
    "id": "VFNnLNlivuVJ"
   },
   "outputs": [],
   "source": [
    "descriptions_embeddings = embed(dt.Description.apply(str).to_list())\n",
    "descriptions_embeddings = descriptions_embeddings.numpy()"
   ]
  },
  {
   "cell_type": "code",
   "execution_count": null,
   "metadata": {
    "id": "fkQ5KVLHwG0-"
   },
   "outputs": [],
   "source": [
    "contents_embeddings = embed(dt.Content.apply(str).to_list())\n",
    "contents_embeddings = contents_embeddings.numpy()"
   ]
  },
  {
   "cell_type": "code",
   "execution_count": 16,
   "metadata": {},
   "outputs": [
    {
     "name": "stderr",
     "output_type": "stream",
     "text": [
      "100%|██████████| 9397/9397 [01:11<00:00, 131.19it/s] \n"
     ]
    }
   ],
   "source": [
    "images_embeddings = get_image_features(dt['ImagePath'].apply(str).to_numpy().tolist())"
   ]
  },
  {
   "cell_type": "code",
   "execution_count": 12,
   "metadata": {
    "id": "03KBIKMFKm1d"
   },
   "outputs": [],
   "source": [
    "from keras.models import Sequential\n",
    "from keras.layers import Dense\n",
    "\n",
    "#!pip install iterative-stratification\n",
    "from iterstrat.ml_stratifiers import MultilabelStratifiedKFold\n",
    "\n",
    "from sklearn.metrics import f1_score\n",
    "from sklearn.metrics import precision_score\n",
    "from sklearn.metrics import recall_score"
   ]
  },
  {
   "cell_type": "code",
   "execution_count": 13,
   "metadata": {
    "id": "5Q6Qb9NWZ1zx"
   },
   "outputs": [],
   "source": [
    "from sklearn.metrics import coverage_error\n",
    "from sklearn.metrics import label_ranking_average_precision_score\n",
    "from sklearn.metrics import label_ranking_loss\n",
    "from sklearn.metrics import average_precision_score\n",
    "from sklearn.metrics import hamming_loss"
   ]
  },
  {
   "cell_type": "markdown",
   "metadata": {
    "id": "PXg9z7ZTxkzf"
   },
   "source": [
    "Training"
   ]
  },
  {
   "cell_type": "code",
   "execution_count": 19,
   "metadata": {
    "id": "9SKogaYm_QrM"
   },
   "outputs": [],
   "source": [
    "def get_model(n_inputs, n_outputs):\n",
    "  model = Sequential()\n",
    "  model.add(Dense(n_inputs * 2, activation='relu'))\n",
    "  model.add(Dense(100, activation='relu'))\n",
    "  model.add(Dense(n_outputs, activation='sigmoid'))\n",
    "  model.compile(loss='binary_crossentropy', optimizer='adam')\n",
    "  return model\n",
    "\n",
    "def evaluate_model(X, y, variable):\n",
    "  results = list()\n",
    "\n",
    "  n_inputs, n_outputs = X.shape[1], len(get_unique_tags_list(dt.Tags))\n",
    "\n",
    "  mskf = MultilabelStratifiedKFold(n_splits=10, shuffle=True, random_state=0)\n",
    "  \n",
    "  fold_no = 1\n",
    "  for train_ix, test_ix in mskf.split(X, y):\n",
    "    print(f'Score for fold {fold_no}')\n",
    "    \n",
    "    train_ix = np.array(train_ix)\n",
    "    test_ix = np.array(test_ix)\n",
    "\n",
    "    X_train, X_test = X[train_ix], X[test_ix]\n",
    "    y_train, y_test = y[train_ix], y[test_ix]\n",
    "    \n",
    "    model = get_model(n_inputs, n_outputs)\n",
    "    \n",
    "    model.fit(X_train, y_train, verbose=0, epochs=50)\n",
    "    \n",
    "    predictions = model.predict(X_test)\n",
    "\n",
    "    print(\"\\nMultilabel ranking metrics\")\n",
    "\n",
    "    print(\"Coverage Error:\", coverage_error(y_test, predictions))\n",
    "    print(\"Label Ranking Average Precision:\", label_ranking_average_precision_score(y_test, predictions))\n",
    "    print(\"Label Ranking Loss:\", label_ranking_loss(y_test, predictions))\n",
    "    print(\"Hit Ratio:\", hitk(y_test, predictions, 5))\n",
    "    print(\"Average Precision:\", ap(y_test, predictions))\n",
    "\n",
    "    predictions = predictions.round()\n",
    "    \n",
    "    print(\"Hamming Loss:\", hamming_loss(y_test, predictions))\n",
    "\n",
    "    print(\"\\nNormal ranking metrics\")\n",
    "    precision = precision_score(y_test, predictions, average='weighted')\n",
    "    recall = recall_score(y_test, predictions, average='weighted')\n",
    "    f1 = f1_score(y_test, predictions, average='weighted')\n",
    "    \n",
    "    print(\"Precision:\", precision)\n",
    "    print(\"Recall:\", recall)\n",
    "    print(\"F1 Score:\", f1)\n",
    "    \n",
    "    fold_no += 1\n",
    "  \n",
    "  return results"
   ]
  },
  {
   "cell_type": "code",
   "execution_count": 20,
   "metadata": {},
   "outputs": [],
   "source": [
    "def warn(*args, **kwargs):\n",
    "    pass\n",
    "\n",
    "import warnings\n",
    "warnings.warn = warn"
   ]
  },
  {
   "cell_type": "code",
   "execution_count": 21,
   "metadata": {
    "colab": {
     "base_uri": "https://localhost:8080/"
    },
    "id": "m4x1SF6uEcl-",
    "outputId": "194b907b-a6e2-43b9-a288-e7c7a70e62f0"
   },
   "outputs": [
    {
     "name": "stdout",
     "output_type": "stream",
     "text": [
      "Analysing variable Description\n",
      "Score for fold 1:\n",
      "\n",
      "Multilabel ranking metrics\n",
      "Coverage Error: 379.2367303609342\n",
      "Label Ranking Average Precision: 0.5961981405043405\n",
      "Label Ranking Loss: 0.03461533741770859\n",
      "Hit Ratio: 0.6430997876857749\n",
      "Average Precision: 0.5961981405043406\n",
      "Hamming Loss: 0.003941368060264026\n",
      "\n",
      "Normal ranking metrics\n",
      "Precision: 0.6091608850346111\n",
      "Recall: 0.4579577987488071\n",
      "F1 Score: 0.5087642697871951\n",
      "Score for fold 2:\n",
      "\n",
      "Multilabel ranking metrics\n",
      "Coverage Error: 361.76464323748667\n",
      "Label Ranking Average Precision: 0.6076189108601256\n",
      "Label Ranking Loss: 0.032974189838617676\n",
      "Hit Ratio: 0.6544728434504792\n",
      "Average Precision: 0.6076189108601258\n",
      "Hamming Loss: 0.0038433542160911703\n",
      "\n",
      "Normal ranking metrics\n",
      "Precision: 0.6168346980921395\n",
      "Recall: 0.44789605945570227\n",
      "F1 Score: 0.5001953616392396\n",
      "Score for fold 3:\n",
      "\n",
      "Multilabel ranking metrics\n",
      "Coverage Error: 353.53177966101697\n",
      "Label Ranking Average Precision: 0.6063662046143811\n",
      "Label Ranking Loss: 0.03155817826033601\n",
      "Hit Ratio: 0.6511299435028249\n",
      "Average Precision: 0.6063662046143817\n",
      "Hamming Loss: 0.0037168183354624033\n",
      "\n",
      "Normal ranking metrics\n",
      "Precision: 0.6298719489858016\n",
      "Recall: 0.46532641822167564\n",
      "F1 Score: 0.5213538626234296\n",
      "Score for fold 4:\n",
      "\n",
      "Multilabel ranking metrics\n",
      "Coverage Error: 306.44823906083246\n",
      "Label Ranking Average Precision: 0.614385442271854\n",
      "Label Ranking Loss: 0.02656287202782473\n",
      "Hit Ratio: 0.6529704731412309\n",
      "Average Precision: 0.614385442271854\n",
      "Hamming Loss: 0.003832761570221549\n",
      "\n",
      "Normal ranking metrics\n",
      "Precision: 0.6130116314803649\n",
      "Recall: 0.47173866322802493\n",
      "F1 Score: 0.5177932209156418\n",
      "Score for fold 5:\n",
      "\n",
      "Multilabel ranking metrics\n",
      "Coverage Error: 380.96256684491976\n",
      "Label Ranking Average Precision: 0.585908971021626\n",
      "Label Ranking Loss: 0.03434334776828427\n",
      "Hit Ratio: 0.6301604278074867\n",
      "Average Precision: 0.5859089710216258\n",
      "Hamming Loss: 0.0038708765981493253\n",
      "\n",
      "Normal ranking metrics\n",
      "Precision: 0.6141055295999321\n",
      "Recall: 0.4644118591458846\n",
      "F1 Score: 0.5171275238761927\n",
      "Score for fold 6:\n",
      "\n",
      "Multilabel ranking metrics\n",
      "Coverage Error: 389.82377919320595\n",
      "Label Ranking Average Precision: 0.5963980439499776\n",
      "Label Ranking Loss: 0.035258173269414224\n",
      "Hit Ratio: 0.6444444444444444\n",
      "Average Precision: 0.596398043949977\n",
      "Hamming Loss: 0.0039463171097990635\n",
      "\n",
      "Normal ranking metrics\n",
      "Precision: 0.6005338400463391\n",
      "Recall: 0.46796210052995024\n",
      "F1 Score: 0.508622105959261\n",
      "Score for fold 7:\n",
      "\n",
      "Multilabel ranking metrics\n",
      "Coverage Error: 358.3946808510638\n",
      "Label Ranking Average Precision: 0.6020415827980796\n",
      "Label Ranking Loss: 0.030756967158188372\n",
      "Hit Ratio: 0.6502482269503547\n",
      "Average Precision: 0.602041582798079\n",
      "Hamming Loss: 0.0038541442796761944\n",
      "\n",
      "Normal ranking metrics\n",
      "Precision: 0.623202775897309\n",
      "Recall: 0.4683944374209861\n",
      "F1 Score: 0.5195848834807377\n",
      "Score for fold 8:\n",
      "\n",
      "Multilabel ranking metrics\n",
      "Coverage Error: 338.08589607635207\n",
      "Label Ranking Average Precision: 0.5909340218671122\n",
      "Label Ranking Loss: 0.030064217069628144\n",
      "Hit Ratio: 0.6256451042771297\n",
      "Average Precision: 0.5909340218671122\n",
      "Hamming Loss: 0.00417613885270301\n",
      "\n",
      "Normal ranking metrics\n",
      "Precision: 0.5670675132875258\n",
      "Recall: 0.4468675019994668\n",
      "F1 Score: 0.4877316616441558\n",
      "Score for fold 9:\n",
      "\n",
      "Multilabel ranking metrics\n",
      "Coverage Error: 394.6144834930777\n",
      "Label Ranking Average Precision: 0.5826203827061304\n",
      "Label Ranking Loss: 0.03529440053719175\n",
      "Hit Ratio: 0.6179268725594604\n",
      "Average Precision: 0.5826203827061299\n",
      "Hamming Loss: 0.003971888955914515\n",
      "\n",
      "Normal ranking metrics\n",
      "Precision: 0.589810160985487\n",
      "Recall: 0.4369584055459272\n",
      "F1 Score: 0.4878537701293945\n",
      "Score for fold 10:\n",
      "\n",
      "Multilabel ranking metrics\n",
      "Coverage Error: 368.05128205128204\n",
      "Label Ranking Average Precision: 0.6091182559509204\n",
      "Label Ranking Loss: 0.03224144437430975\n",
      "Hit Ratio: 0.6492165242165243\n",
      "Average Precision: 0.6091182559509201\n",
      "Hamming Loss: 0.0037275560779834282\n",
      "\n",
      "Normal ranking metrics\n",
      "Precision: 0.6334882797415231\n",
      "Recall: 0.4569148069718195\n",
      "F1 Score: 0.5151130521957062\n"
     ]
    }
   ],
   "source": [
    "variables = {\n",
    "    #\"Title\": titles_embeddings,\n",
    "    \"Description\": descriptions_embeddings,\n",
    "    #\"Content\": contents_embeddings\n",
    "}\n",
    "\n",
    "results = []\n",
    "\n",
    "for variable in variables.keys(): \n",
    "  print(\"Analysing variable\", variable)\n",
    "\n",
    "  # load dataset\n",
    "  X = variables[variable]\n",
    "\n",
    "  # evaluate model\n",
    "  results = evaluate_model(X, y, variable)"
   ]
  },
  {
   "cell_type": "code",
   "execution_count": null,
   "metadata": {
    "colab": {
     "base_uri": "https://localhost:8080/",
     "height": 17
    },
    "id": "9nFhQtm3Hi2d",
    "outputId": "2f7186b2-3b78-43a1-d74e-2cc6cd4e97ee"
   },
   "outputs": [
    {
     "data": {
      "application/javascript": [
       "\n",
       "    async function download(id, filename, size) {\n",
       "      if (!google.colab.kernel.accessAllowed) {\n",
       "        return;\n",
       "      }\n",
       "      const div = document.createElement('div');\n",
       "      const label = document.createElement('label');\n",
       "      label.textContent = `Downloading \"${filename}\": `;\n",
       "      div.appendChild(label);\n",
       "      const progress = document.createElement('progress');\n",
       "      progress.max = size;\n",
       "      div.appendChild(progress);\n",
       "      document.body.appendChild(div);\n",
       "\n",
       "      const buffers = [];\n",
       "      let downloaded = 0;\n",
       "\n",
       "      const channel = await google.colab.kernel.comms.open(id);\n",
       "      // Send a message to notify the kernel that we're ready.\n",
       "      channel.send({})\n",
       "\n",
       "      for await (const message of channel.messages) {\n",
       "        // Send a message to notify the kernel that we're ready.\n",
       "        channel.send({})\n",
       "        if (message.buffers) {\n",
       "          for (const buffer of message.buffers) {\n",
       "            buffers.push(buffer);\n",
       "            downloaded += buffer.byteLength;\n",
       "            progress.value = downloaded;\n",
       "          }\n",
       "        }\n",
       "      }\n",
       "      const blob = new Blob(buffers, {type: 'application/binary'});\n",
       "      const a = document.createElement('a');\n",
       "      a.href = window.URL.createObjectURL(blob);\n",
       "      a.download = filename;\n",
       "      div.appendChild(a);\n",
       "      a.click();\n",
       "      div.remove();\n",
       "    }\n",
       "  "
      ],
      "text/plain": [
       "<IPython.core.display.Javascript object>"
      ]
     },
     "metadata": {
      "tags": []
     },
     "output_type": "display_data"
    },
    {
     "data": {
      "application/javascript": [
       "download(\"download_6514ea07-4a9d-400d-9aca-be8e13a445cb\", \"Results.csv\", 2287)"
      ],
      "text/plain": [
       "<IPython.core.display.Javascript object>"
      ]
     },
     "metadata": {
      "tags": []
     },
     "output_type": "display_data"
    }
   ],
   "source": [
    "pd.DataFrame(results).to_csv(\"Results.csv\")\n",
    "\n",
    "from google.colab import files\n",
    "\n",
    "files.download('Results.csv') "
   ]
  }
 ],
 "metadata": {
  "colab": {
   "name": "Treinando modelo multilabel.ipynb",
   "provenance": []
  },
  "interpreter": {
   "hash": "0973d6013fea1e6f7f2f9c6aadc5d90f95a3cc4fae2d49d683c1580432583f3b"
  },
  "kernelspec": {
   "display_name": "Python 3",
   "language": "python",
   "name": "python3"
  },
  "language_info": {
   "codemirror_mode": {
    "name": "ipython",
    "version": 3
   },
   "file_extension": ".py",
   "mimetype": "text/x-python",
   "name": "python",
   "nbconvert_exporter": "python",
   "pygments_lexer": "ipython3",
   "version": "3.6.9"
  }
 },
 "nbformat": 4,
 "nbformat_minor": 2
}
