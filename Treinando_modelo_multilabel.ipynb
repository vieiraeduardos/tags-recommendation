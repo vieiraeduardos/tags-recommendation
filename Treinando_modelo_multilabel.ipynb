{
 "cells": [
  {
   "cell_type": "code",
   "execution_count": 1,
   "metadata": {},
   "outputs": [
    {
     "name": "stderr",
     "output_type": "stream",
     "text": [
      "COMET WARNING: As you are running in a Jupyter environment, you will need to call `experiment.end()` when finished to ensure all metrics and code are logged before exiting.\n",
      "COMET INFO: Experiment is live on comet.ml https://www.comet.ml/vieiraeduardos/tag-recommendation/f1f56fd3897e48f29a7e14c5a2698a0d\n",
      "\n"
     ]
    }
   ],
   "source": [
    "# import comet_ml at the top of your file\n",
    "from comet_ml import Experiment\n",
    "\n",
    "# Create an experiment with your api key\n",
    "experiment = Experiment(\n",
    "    api_key=\"6P67MF6RktnoSQ9uM0JjqTlnW\",\n",
    "    project_name=\"tag-recommendation\",\n",
    "    workspace=\"vieiraeduardos\",\n",
    ")"
   ]
  },
  {
   "cell_type": "markdown",
   "metadata": {},
   "source": [
    "## Utils"
   ]
  },
  {
   "cell_type": "markdown",
   "metadata": {},
   "source": [
    "Funções auxiliares"
   ]
  },
  {
   "cell_type": "code",
   "execution_count": 2,
   "metadata": {},
   "outputs": [],
   "source": [
    "import numpy as np\n",
    "from sklearn import preprocessing\n",
    "\n",
    "def tags_list_to_array(tags_set):\n",
    "  results = []\n",
    "  for tags in tags_set:\n",
    "    results.append(list(filter(None, tags.split(\";\"))))\n",
    "\n",
    "  return results\n",
    "\n",
    "def get_unique_tags_list(tags_set):\n",
    "\n",
    "  results = []\n",
    "  for tags in tags_set:\n",
    "    for tag in tags:\n",
    "      results.append(tag)\n",
    "\n",
    "  return list(set(results))\n",
    "\n",
    "def get_all_tags(tags_set):\n",
    "  results = []\n",
    "  for tags in tags_set:\n",
    "    for tag in tags:\n",
    "      results.append(tag)\n",
    "\n",
    "  return results\n",
    "\n",
    "def transform_array_to_binary(tags_set):\n",
    "  le = preprocessing.LabelEncoder()\n",
    "  uniques = get_unique_tags_list(dt.Tags)\n",
    "\n",
    "  le.fit(uniques)\n",
    "  \n",
    "  length = len(uniques)\n",
    "  results = []\n",
    "  for tags in tags_set:\n",
    "    encoder_result = le.transform(tags)\n",
    "\n",
    "    arr = np.zeros((length,), dtype=int)\n",
    "    for position in encoder_result:\n",
    "      arr[position] = 1\n",
    "\n",
    "    results.append(list(arr))\n",
    "  return np.array(results)"
   ]
  },
  {
   "cell_type": "markdown",
   "metadata": {},
   "source": [
    "Métrica de Hit ratio"
   ]
  },
  {
   "cell_type": "code",
   "execution_count": 3,
   "metadata": {},
   "outputs": [],
   "source": [
    "import numpy as np\n",
    "\n",
    "def hitk_convert_array_to_dict(arr):\n",
    "  results = []\n",
    "\n",
    "  for i in range(len(arr)):\n",
    "    results.append(i)\n",
    "    results.append(arr[i])\n",
    "\n",
    "  return dict(zip(results[::2], results[1::2]))\n",
    "\n",
    "def hitk_sort_dict(x):\n",
    "  return sorted(x.items(), key=lambda kv: kv[1], reverse=True)\n",
    "\n",
    "def hitk_get_k_keys(x, k):\n",
    "  keys = []\n",
    "\n",
    "  for item in x[:k]:\n",
    "    key = item[0]\n",
    "    value = item[1]\n",
    "\n",
    "    if value > 0.5:\n",
    "      keys.append(item[0])\n",
    "\n",
    "  return keys\n",
    "\n",
    "def hitk_get_number_of_correct_keys(keys_from_y_true, keys_from_y_scores):\n",
    "  count = 0\n",
    "\n",
    "  for i in range(min(len(keys_from_y_true), len(keys_from_y_scores))):\n",
    "    if keys_from_y_scores[i] in keys_from_y_true:\n",
    "      count += 1\n",
    "\n",
    "  return count\n",
    "\n",
    "def hitk_calculate(y_true, y_scores, k = 1):\n",
    "  # converting from array format to dict format\n",
    "  y_scores = hitk_convert_array_to_dict(y_scores)\n",
    "  y_true = hitk_convert_array_to_dict(y_true)\n",
    "\n",
    "  # sorting dict by value\n",
    "  y_scores = hitk_sort_dict(y_scores)\n",
    "  y_true = hitk_sort_dict(y_true)\n",
    "\n",
    "  # getting k first keys from dict\n",
    "  keys_from_y_scores = hitk_get_k_keys(y_scores, k)\n",
    "  keys_from_y_true = hitk_get_k_keys(y_true, len(y_true)) \n",
    "\n",
    "  # process\n",
    "  m = hitk_get_number_of_correct_keys(keys_from_y_true, keys_from_y_scores)\n",
    "\n",
    "  # number of tags truely\n",
    "  ng = len(keys_from_y_true)\n",
    "\n",
    "  # number of tags recommend\n",
    "  nr = len(keys_from_y_scores)\n",
    "\n",
    "  if min(ng,nr) == 0:\n",
    "    if ng == nr:\n",
    "        return 1\n",
    "    else:\n",
    "        return 0\n",
    "  else:\n",
    "    return m / min(ng, nr)\n",
    "\n",
    "def hitk(y_true, y_scores, k = 1):\n",
    "  results = []\n",
    "  \n",
    "  for i in range(len(y_true)):\n",
    "    value = hitk_calculate(y_true[i], y_scores[i], k = k)\n",
    "  \n",
    "    results.append(value)\n",
    "\n",
    "  return np.mean(results)\n"
   ]
  },
  {
   "cell_type": "code",
   "execution_count": 4,
   "metadata": {},
   "outputs": [],
   "source": [
    "from sklearn.metrics import average_precision_score\n",
    "\n",
    "def ap(y_true, y_scores):\n",
    "  results = []\n",
    "  \n",
    "  for i in range(len(y_true)):\n",
    "    value = average_precision_score(y_true[i], y_scores[i])\n",
    "  \n",
    "    results.append(value)\n",
    "\n",
    "  return np.mean(results)"
   ]
  },
  {
   "cell_type": "markdown",
   "metadata": {},
   "source": [
    "## Pré processamento"
   ]
  },
  {
   "cell_type": "markdown",
   "metadata": {},
   "source": [
    "Carregando bibliotecas"
   ]
  },
  {
   "cell_type": "code",
   "execution_count": 5,
   "metadata": {
    "colab": {
     "base_uri": "https://localhost:8080/"
    },
    "id": "-2SaVkBjMir6",
    "outputId": "98536161-0960-43a0-f570-a4267b46d01f"
   },
   "outputs": [],
   "source": [
    "import pandas as pd\n",
    "import numpy as np"
   ]
  },
  {
   "cell_type": "markdown",
   "metadata": {},
   "source": [
    "Carregando base de dados"
   ]
  },
  {
   "cell_type": "code",
   "execution_count": 6,
   "metadata": {
    "colab": {
     "base_uri": "https://localhost:8080/",
     "height": 289
    },
    "id": "pYymyKF3uoky",
    "outputId": "af5f0962-bb28-4446-daef-8045a32aee78"
   },
   "outputs": [
    {
     "name": "stdout",
     "output_type": "stream",
     "text": [
      "Total Rows: 9397\n",
      "Total Columns: 9\n",
      "Columns: ['AdjustedTitle', 'ImagePath', 'Title', 'URL', 'Description', 'Tags', 'MicroName', 'Category', 'Content']\n"
     ]
    }
   ],
   "source": [
    "dt = pd.read_csv(\"Datasets/Blogs.csv\")\n",
    "\n",
    "print('Total Rows: {}\\nTotal Columns: {}'.format(dt.shape[0], dt.shape[1]))\n",
    "print('Columns:', dt.columns.to_list())"
   ]
  },
  {
   "cell_type": "code",
   "execution_count": 7,
   "metadata": {},
   "outputs": [
    {
     "data": {
      "text/html": [
       "<div>\n",
       "<style scoped>\n",
       "    .dataframe tbody tr th:only-of-type {\n",
       "        vertical-align: middle;\n",
       "    }\n",
       "\n",
       "    .dataframe tbody tr th {\n",
       "        vertical-align: top;\n",
       "    }\n",
       "\n",
       "    .dataframe thead th {\n",
       "        text-align: right;\n",
       "    }\n",
       "</style>\n",
       "<table border=\"1\" class=\"dataframe\">\n",
       "  <thead>\n",
       "    <tr style=\"text-align: right;\">\n",
       "      <th></th>\n",
       "      <th>AdjustedTitle</th>\n",
       "      <th>ImagePath</th>\n",
       "      <th>Title</th>\n",
       "      <th>URL</th>\n",
       "      <th>Description</th>\n",
       "      <th>Tags</th>\n",
       "      <th>MicroName</th>\n",
       "      <th>Category</th>\n",
       "      <th>Content</th>\n",
       "    </tr>\n",
       "  </thead>\n",
       "  <tbody>\n",
       "    <tr>\n",
       "      <th>0</th>\n",
       "      <td>free diet plan from julia</td>\n",
       "      <td>Images/Free Diet Plan from Julia/1.jpg</td>\n",
       "      <td>Free Diet Plan from Julia</td>\n",
       "      <td>http://juliahavey.typepad.com</td>\n",
       "      <td>Opinions on diet plans, weight loss, nutrition...</td>\n",
       "      <td>effect;weighting;egress;publication;supply;off...</td>\n",
       "      <td>weight issues</td>\n",
       "      <td>Health</td>\n",
       "      <td>Free Diet Plan from Julia11 de jul. de 2011 — ...</td>\n",
       "    </tr>\n",
       "    <tr>\n",
       "      <th>1</th>\n",
       "      <td>retro gaming</td>\n",
       "      <td>Images/Retro Gaming/5.jpg</td>\n",
       "      <td>Retro Gaming</td>\n",
       "      <td>http://www.racketboy.com/</td>\n",
       "      <td>Notes and thoughts on video gaming with the ol...</td>\n",
       "      <td>sega;comfort;cabinet;console platforms;solace;...</td>\n",
       "      <td>console platforms</td>\n",
       "      <td>Entertainment</td>\n",
       "      <td>Top 90 Retro Gaming Blogs, Websites &amp; Influenc...</td>\n",
       "    </tr>\n",
       "    <tr>\n",
       "      <th>2</th>\n",
       "      <td>fancy pigeons india</td>\n",
       "      <td>Images/Fancy Pigeons India/5.jpg</td>\n",
       "      <td>Fancy Pigeons India</td>\n",
       "      <td>http://www.fancypigeonsindia.blogspot.com/</td>\n",
       "      <td>Offers posts on exhibitions, sales, rare breed...</td>\n",
       "      <td>deary;parrots;ducky;skirt;razzing;snort;favori...</td>\n",
       "      <td>birds</td>\n",
       "      <td>Pets</td>\n",
       "      <td>Fancy Pigeons India</td>\n",
       "    </tr>\n",
       "    <tr>\n",
       "      <th>3</th>\n",
       "      <td>bookish gardener</td>\n",
       "      <td>Images/Bookish Gardener/0.jpg</td>\n",
       "      <td>Bookish Gardener</td>\n",
       "      <td>http://fortyfour.typepad.com/bookishgardener/</td>\n",
       "      <td>Reviews of gardening books and general comment...</td>\n",
       "      <td>hobbies and lifestyle;falco subbuteo;life styl...</td>\n",
       "      <td>gardening</td>\n",
       "      <td>Hobbies and Lifestyle</td>\n",
       "      <td>Bookish Gardener9 de jan. de 2020 — occasional...</td>\n",
       "    </tr>\n",
       "    <tr>\n",
       "      <th>4</th>\n",
       "      <td>goatworld</td>\n",
       "      <td>Images/GoatWorld/1.jpg</td>\n",
       "      <td>GoatWorld</td>\n",
       "      <td>http://goatworld.com/</td>\n",
       "      <td>Presents current goat news topics and archives...</td>\n",
       "      <td>deary;ducky;stock;favorite;capricorn;united ki...</td>\n",
       "      <td>livestock goats</td>\n",
       "      <td>Pets</td>\n",
       "      <td>Welcome to GoatWorld - GOATWORLD.COMEducationa...</td>\n",
       "    </tr>\n",
       "  </tbody>\n",
       "</table>\n",
       "</div>"
      ],
      "text/plain": [
       "               AdjustedTitle                               ImagePath  \\\n",
       "0  free diet plan from julia  Images/Free Diet Plan from Julia/1.jpg   \n",
       "1               retro gaming               Images/Retro Gaming/5.jpg   \n",
       "2        fancy pigeons india        Images/Fancy Pigeons India/5.jpg   \n",
       "3           bookish gardener           Images/Bookish Gardener/0.jpg   \n",
       "4                  goatworld                  Images/GoatWorld/1.jpg   \n",
       "\n",
       "                       Title                                            URL  \\\n",
       "0  Free Diet Plan from Julia                  http://juliahavey.typepad.com   \n",
       "1               Retro Gaming                      http://www.racketboy.com/   \n",
       "2        Fancy Pigeons India     http://www.fancypigeonsindia.blogspot.com/   \n",
       "3           Bookish Gardener  http://fortyfour.typepad.com/bookishgardener/   \n",
       "4                  GoatWorld                          http://goatworld.com/   \n",
       "\n",
       "                                         Description  \\\n",
       "0  Opinions on diet plans, weight loss, nutrition...   \n",
       "1  Notes and thoughts on video gaming with the ol...   \n",
       "2  Offers posts on exhibitions, sales, rare breed...   \n",
       "3  Reviews of gardening books and general comment...   \n",
       "4  Presents current goat news topics and archives...   \n",
       "\n",
       "                                                Tags          MicroName  \\\n",
       "0  effect;weighting;egress;publication;supply;off...      weight issues   \n",
       "1  sega;comfort;cabinet;console platforms;solace;...  console platforms   \n",
       "2  deary;parrots;ducky;skirt;razzing;snort;favori...              birds   \n",
       "3  hobbies and lifestyle;falco subbuteo;life styl...          gardening   \n",
       "4  deary;ducky;stock;favorite;capricorn;united ki...    livestock goats   \n",
       "\n",
       "                Category                                            Content  \n",
       "0                 Health  Free Diet Plan from Julia11 de jul. de 2011 — ...  \n",
       "1          Entertainment  Top 90 Retro Gaming Blogs, Websites & Influenc...  \n",
       "2                   Pets                                Fancy Pigeons India  \n",
       "3  Hobbies and Lifestyle  Bookish Gardener9 de jan. de 2020 — occasional...  \n",
       "4                   Pets  Welcome to GoatWorld - GOATWORLD.COMEducationa...  "
      ]
     },
     "execution_count": 7,
     "metadata": {},
     "output_type": "execute_result"
    }
   ],
   "source": [
    "dt.head()"
   ]
  },
  {
   "cell_type": "code",
   "execution_count": 9,
   "metadata": {},
   "outputs": [
    {
     "data": {
      "text/plain": [
       "(9397, 9)"
      ]
     },
     "execution_count": 9,
     "metadata": {},
     "output_type": "execute_result"
    }
   ],
   "source": [
    "X = dt[['AdjustedTitle', 'ImagePath', 'Title', 'URL', 'Description', 'MicroName', 'Category', 'Content', 'Tags']]\n",
    "\n",
    "X.shape"
   ]
  },
  {
   "cell_type": "markdown",
   "metadata": {},
   "source": [
    "Convertendo formato de tags de STRING para ARRAY"
   ]
  },
  {
   "cell_type": "code",
   "execution_count": 10,
   "metadata": {
    "id": "dIX_TkqVNmjc"
   },
   "outputs": [
    {
     "data": {
      "text/plain": [
       "(9397, 9)"
      ]
     },
     "execution_count": 10,
     "metadata": {},
     "output_type": "execute_result"
    }
   ],
   "source": [
    "dt.Tags = tags_list_to_array(dt.Tags)\n",
    "\n",
    "dt.shape"
   ]
  },
  {
   "cell_type": "markdown",
   "metadata": {},
   "source": [
    "Convertendo formato de tags de ARRAY de string para ARRAY binário"
   ]
  },
  {
   "cell_type": "markdown",
   "metadata": {},
   "source": [
    "Splitting train and test sets"
   ]
  },
  {
   "cell_type": "code",
   "execution_count": 10,
   "metadata": {},
   "outputs": [],
   "source": [
    "from skmultilearn.model_selection import iterative_train_test_split\n",
    "\n",
    "def iterative_train_test_split_dataframe(X, y, test_size):\n",
    "    df_index = np.expand_dims(X.index.to_numpy(), axis=1)\n",
    "    X_train, y_train, X_test, y_test = iterative_train_test_split(df_index, y, test_size = test_size)\n",
    "    X_train = X.loc[X_train[:,0]]\n",
    "    X_test = X.loc[X_test[:,0]]\n",
    "    return X_train, y_train, X_test, y_test\n",
    "\n",
    "X_test, y_test, X_train, y_train = iterative_train_test_split_dataframe(X, y, test_size=0.9)"
   ]
  },
  {
   "cell_type": "code",
   "execution_count": 11,
   "metadata": {},
   "outputs": [
    {
     "data": {
      "text/plain": [
       "((7504, 9), (1893, 9), (7504, 3861), (1893, 3861))"
      ]
     },
     "execution_count": 11,
     "metadata": {},
     "output_type": "execute_result"
    }
   ],
   "source": [
    "X_train.shape, X_test.shape, y_train.shape, y_test.shape"
   ]
  },
  {
   "cell_type": "code",
   "execution_count": 12,
   "metadata": {},
   "outputs": [],
   "source": [
    "X_train.to_csv(\"Datasets/Train.csv\", index=0)\n",
    "X_test.to_csv(\"Datasets/Test.csv\", index=0)"
   ]
  },
  {
   "cell_type": "markdown",
   "metadata": {},
   "source": [
    "### Loading"
   ]
  },
  {
   "cell_type": "code",
   "execution_count": 11,
   "metadata": {},
   "outputs": [],
   "source": [
    "train = pd.read_csv(\"Datasets/Train.csv\")\n",
    "test = pd.read_csv(\"Datasets/Test.csv\")"
   ]
  },
  {
   "cell_type": "code",
   "execution_count": 12,
   "metadata": {},
   "outputs": [
    {
     "data": {
      "text/plain": [
       "(7504, 9)"
      ]
     },
     "execution_count": 12,
     "metadata": {},
     "output_type": "execute_result"
    }
   ],
   "source": [
    "train.Tags = tags_list_to_array(train.Tags)\n",
    "\n",
    "train.shape"
   ]
  },
  {
   "cell_type": "code",
   "execution_count": 13,
   "metadata": {},
   "outputs": [
    {
     "data": {
      "text/plain": [
       "(7504, 3861)"
      ]
     },
     "execution_count": 13,
     "metadata": {},
     "output_type": "execute_result"
    }
   ],
   "source": [
    "le = preprocessing.LabelEncoder()\n",
    "uniques = get_unique_tags_list(dt.Tags)\n",
    "\n",
    "le.fit(uniques)\n",
    "  \n",
    "length = len(uniques)\n",
    "results = []\n",
    "\n",
    "for tags in train.Tags:\n",
    "    encoder_result = le.transform(tags)\n",
    "\n",
    "    arr = np.zeros((length,), dtype=int)\n",
    "\n",
    "    for position in encoder_result:\n",
    "      arr[position] = 1\n",
    "\n",
    "    results.append(list(arr))\n",
    "\n",
    "y_train = np.array(results)\n",
    "\n",
    "y_train.shape"
   ]
  },
  {
   "cell_type": "code",
   "execution_count": 15,
   "metadata": {},
   "outputs": [
    {
     "data": {
      "text/plain": [
       "(1893, 9)"
      ]
     },
     "execution_count": 15,
     "metadata": {},
     "output_type": "execute_result"
    }
   ],
   "source": [
    "test.Tags = tags_list_to_array(test.Tags)\n",
    "\n",
    "test.shape"
   ]
  },
  {
   "cell_type": "code",
   "execution_count": 16,
   "metadata": {},
   "outputs": [
    {
     "data": {
      "text/plain": [
       "(1893, 3861)"
      ]
     },
     "execution_count": 16,
     "metadata": {},
     "output_type": "execute_result"
    }
   ],
   "source": [
    "results = []\n",
    "\n",
    "for tags in test.Tags:\n",
    "    encoder_result = le.transform(tags)\n",
    "\n",
    "    arr = np.zeros((length,), dtype=int)\n",
    "\n",
    "    for position in encoder_result:\n",
    "      arr[position] = 1\n",
    "\n",
    "    results.append(list(arr))\n",
    "\n",
    "y_test = np.array(results)\n",
    "\n",
    "y_test.shape"
   ]
  },
  {
   "cell_type": "markdown",
   "metadata": {
    "id": "u9L5hf0gAhRw"
   },
   "source": [
    "## Modelo"
   ]
  },
  {
   "cell_type": "code",
   "execution_count": 21,
   "metadata": {},
   "outputs": [],
   "source": [
    "import cv2\n",
    "from tqdm import tqdm\n",
    "\n",
    "import tensorflow as tf\n",
    "import tensorflow_hub as hub\n",
    "import tensorflow_text"
   ]
  },
  {
   "cell_type": "markdown",
   "metadata": {
    "id": "iHVjcpGRvDh9"
   },
   "source": [
    "Extraindo embeddings das entradas "
   ]
  },
  {
   "cell_type": "code",
   "execution_count": 30,
   "metadata": {},
   "outputs": [],
   "source": [
    "def get_image_features(images_paths, embed):\n",
    "  images = []\n",
    "\n",
    "  for filename in tqdm(images_paths):\n",
    "    img = cv2.imread(\"Datasets/\" + filename)\n",
    "    img = cv2.cvtColor(img, cv2.COLOR_BGR2RGB)\n",
    "    img = cv2.resize(img, (224, 224)) \n",
    "    img = np.array(img, dtype=np.uint8)\n",
    "\n",
    "    images.append(img)\n",
    "   \n",
    "  result = embed([images[0]])\n",
    "\n",
    "  for image in tqdm(images[1:]):\n",
    "    embeddings_image = embed([image])\n",
    "    result = tf.concat([result, embeddings_image], 0)\n",
    "      \n",
    "  return result.numpy()"
   ]
  },
  {
   "cell_type": "code",
   "execution_count": 23,
   "metadata": {},
   "outputs": [],
   "source": [
    "def get_text_features(texts, embed):\n",
    "  embeddings = embed(tf.constant([texts[0]]))\n",
    "\n",
    "  for text in tqdm(texts[1:]):\n",
    "    text = tf.constant([text])\n",
    "    tmp = embed(text)\n",
    "    embeddings = tf.concat([embeddings, tmp], 0)\n",
    "      \n",
    "  return embeddings.numpy()"
   ]
  },
  {
   "cell_type": "code",
   "execution_count": 24,
   "metadata": {
    "id": "jMhnMKbiAy7J"
   },
   "outputs": [],
   "source": [
    "module_url = \"https://tfhub.dev/google/universal-sentence-encoder-multilingual/3\"\n",
    "embed = hub.KerasLayer(module_url, trainable=False, name='USE_Embedding')"
   ]
  },
  {
   "cell_type": "code",
   "execution_count": 25,
   "metadata": {},
   "outputs": [],
   "source": [
    "module_url = \"https://tfhub.dev/google/imagenet/inception_v1/feature_vector/5\"\n",
    "INCEPTION_embed = hub.KerasLayer(module_url, trainable=False, name=\"Inception_Embedding\")"
   ]
  },
  {
   "cell_type": "markdown",
   "metadata": {},
   "source": [
    "Generating embeddings for train set"
   ]
  },
  {
   "cell_type": "code",
   "execution_count": 26,
   "metadata": {
    "id": "4wPxMZoMBee8"
   },
   "outputs": [
    {
     "name": "stderr",
     "output_type": "stream",
     "text": [
      "100%|██████████| 7503/7503 [00:48<00:00, 155.93it/s]\n"
     ]
    }
   ],
   "source": [
    "titles_embeddings = X_train.Title.apply(str).to_list()\n",
    "titles_embeddings = get_text_features(titles_embeddings, embed)"
   ]
  },
  {
   "cell_type": "code",
   "execution_count": 27,
   "metadata": {
    "id": "VFNnLNlivuVJ"
   },
   "outputs": [
    {
     "name": "stderr",
     "output_type": "stream",
     "text": [
      "100%|██████████| 7503/7503 [00:45<00:00, 165.14it/s]\n"
     ]
    }
   ],
   "source": [
    "descriptions_embeddings = X_train.Description.apply(str).to_list()\n",
    "descriptions_embeddings = get_text_features(descriptions_embeddings, embed)"
   ]
  },
  {
   "cell_type": "code",
   "execution_count": 28,
   "metadata": {
    "id": "fkQ5KVLHwG0-"
   },
   "outputs": [
    {
     "name": "stderr",
     "output_type": "stream",
     "text": [
      "100%|██████████| 7503/7503 [00:46<00:00, 162.83it/s]\n"
     ]
    }
   ],
   "source": [
    "contents_embeddings = X_train.Content.apply(str).to_list()\n",
    "contents_embeddings = get_text_features(contents_embeddings, embed)"
   ]
  },
  {
   "cell_type": "code",
   "execution_count": 31,
   "metadata": {},
   "outputs": [
    {
     "name": "stderr",
     "output_type": "stream",
     "text": [
      "100%|██████████| 7504/7504 [00:31<00:00, 235.47it/s] \n",
      "100%|██████████| 7503/7503 [00:57<00:00, 131.18it/s]\n"
     ]
    }
   ],
   "source": [
    "images_embeddings = X_train['ImagePath'].apply(str).to_numpy().tolist()\n",
    "images_embeddings = get_image_features(images_embeddings, INCEPTION_embed)"
   ]
  },
  {
   "cell_type": "markdown",
   "metadata": {},
   "source": [
    "Saving embedings for train set"
   ]
  },
  {
   "cell_type": "code",
   "execution_count": 32,
   "metadata": {},
   "outputs": [],
   "source": [
    "np.save(\"Embeddings/titles_train_x.npy\", titles_embeddings)\n",
    "np.save(\"Embeddings/descriptions_train_x.npy\", descriptions_embeddings)\n",
    "np.save(\"Embeddings/contents_train_x.npy\", contents_embeddings)\n",
    "np.save(\"Embeddings/images_train_x.npy\", images_embeddings)"
   ]
  },
  {
   "cell_type": "markdown",
   "metadata": {},
   "source": [
    "Generating embeddings for test set"
   ]
  },
  {
   "cell_type": "code",
   "execution_count": 38,
   "metadata": {},
   "outputs": [
    {
     "name": "stderr",
     "output_type": "stream",
     "text": [
      "100%|██████████| 1892/1892 [00:11<00:00, 157.95it/s]\n"
     ]
    }
   ],
   "source": [
    "titles_embeddings = X_test.Title.apply(str).to_list()\n",
    "titles_embeddings = get_text_features(titles_embeddings, embed)"
   ]
  },
  {
   "cell_type": "code",
   "execution_count": 39,
   "metadata": {},
   "outputs": [
    {
     "name": "stderr",
     "output_type": "stream",
     "text": [
      "100%|██████████| 1892/1892 [00:11<00:00, 166.36it/s]\n"
     ]
    }
   ],
   "source": [
    "descriptions_embeddings = X_test.Description.apply(str).to_list()\n",
    "descriptions_embeddings = get_text_features(descriptions_embeddings, embed)"
   ]
  },
  {
   "cell_type": "code",
   "execution_count": 40,
   "metadata": {},
   "outputs": [
    {
     "name": "stderr",
     "output_type": "stream",
     "text": [
      "100%|██████████| 1892/1892 [00:11<00:00, 162.68it/s]\n"
     ]
    }
   ],
   "source": [
    "contents_embeddings = X_test.Content.apply(str).to_list()\n",
    "contents_embeddings = get_text_features(contents_embeddings, embed)"
   ]
  },
  {
   "cell_type": "code",
   "execution_count": 41,
   "metadata": {},
   "outputs": [
    {
     "name": "stderr",
     "output_type": "stream",
     "text": [
      "100%|██████████| 1893/1893 [00:10<00:00, 186.63it/s]\n",
      "100%|██████████| 1892/1892 [00:13<00:00, 140.33it/s]\n"
     ]
    }
   ],
   "source": [
    "images_embeddings = X_test['ImagePath'].apply(str).to_numpy().tolist()\n",
    "images_embeddings = get_image_features(images_embeddings, INCEPTION_embed)"
   ]
  },
  {
   "cell_type": "markdown",
   "metadata": {},
   "source": [
    "Saving embeddings for test set"
   ]
  },
  {
   "cell_type": "code",
   "execution_count": 42,
   "metadata": {},
   "outputs": [],
   "source": [
    "np.save(\"Embeddings/titles_test_x.npy\", titles_embeddings)\n",
    "np.save(\"Embeddings/descriptions_test_x.npy\", descriptions_embeddings)\n",
    "np.save(\"Embeddings/contents_test_x.npy\", contents_embeddings)\n",
    "np.save(\"Embeddings/images_test_x.npy\", images_embeddings)"
   ]
  },
  {
   "cell_type": "markdown",
   "metadata": {},
   "source": [
    "Loading embeddings for train and test sets"
   ]
  },
  {
   "cell_type": "code",
   "execution_count": 17,
   "metadata": {},
   "outputs": [],
   "source": [
    "titles_train_x = np.load(\"Embeddings/titles_train_x.npy\")\n",
    "descriptions_train_x = np.load(\"Embeddings/descriptions_train_x.npy\")\n",
    "contents_train_x = np.load(\"Embeddings/contents_train_x.npy\")\n",
    "images_train_x = np.load(\"Embeddings/images_train_x.npy\")\n",
    "\n",
    "titles_test_x = np.load(\"Embeddings/titles_test_x.npy\")\n",
    "descriptions_test_x = np.load(\"Embeddings/descriptions_test_x.npy\")\n",
    "contents_test_x = np.load(\"Embeddings/contents_test_x.npy\")\n",
    "images_test_x = np.load(\"Embeddings/images_test_x.npy\")"
   ]
  },
  {
   "cell_type": "code",
   "execution_count": 18,
   "metadata": {
    "id": "03KBIKMFKm1d"
   },
   "outputs": [],
   "source": [
    "from keras.models import Sequential\n",
    "from keras.layers import Dense\n",
    "import pickle \n",
    "#!pip install iterative-stratification\n",
    "from iterstrat.ml_stratifiers import MultilabelStratifiedKFold\n",
    "\n",
    "from sklearn.metrics import f1_score\n",
    "from sklearn.metrics import precision_score\n",
    "from sklearn.metrics import recall_score"
   ]
  },
  {
   "cell_type": "code",
   "execution_count": 19,
   "metadata": {
    "id": "5Q6Qb9NWZ1zx"
   },
   "outputs": [],
   "source": [
    "from sklearn.metrics import coverage_error\n",
    "from sklearn.metrics import label_ranking_average_precision_score\n",
    "from sklearn.metrics import label_ranking_loss\n",
    "from sklearn.metrics import average_precision_score\n",
    "from sklearn.metrics import hamming_loss"
   ]
  },
  {
   "cell_type": "markdown",
   "metadata": {
    "id": "PXg9z7ZTxkzf"
   },
   "source": [
    "Training"
   ]
  },
  {
   "cell_type": "code",
   "execution_count": 30,
   "metadata": {
    "id": "9SKogaYm_QrM"
   },
   "outputs": [],
   "source": [
    "def get_model(n_inputs, n_outputs):\n",
    "  model = Sequential()\n",
    "  model.add(Dense(n_inputs * 2, activation='relu'))\n",
    "  model.add(Dense(100, activation='relu'))\n",
    "  model.add(Dense(n_outputs, activation='sigmoid'))\n",
    "  model.compile(loss='binary_crossentropy', optimizer='adam')\n",
    "  return model\n",
    "\n",
    "def evaluate_model(X, y, variable):\n",
    "  n_inputs, n_outputs = X.shape[1], len(get_unique_tags_list(dt.Tags))\n",
    "\n",
    "  mskf = MultilabelStratifiedKFold(n_splits=10, shuffle=True, random_state=0)\n",
    "  \n",
    "  fold_no = 1\n",
    "  best_result = 0\n",
    "    \n",
    "  for train_ix, test_ix in mskf.split(X, y):\n",
    "    print(f'Score for fold {fold_no}')\n",
    "    \n",
    "    train_ix = np.array(train_ix)\n",
    "    test_ix = np.array(test_ix)\n",
    "\n",
    "    X_train, X_test = X[train_ix], X[test_ix]\n",
    "    y_train, y_test = y[train_ix], y[test_ix]\n",
    "    \n",
    "    model = get_model(n_inputs, n_outputs)\n",
    "    \n",
    "    model.fit(X_train, y_train, verbose=0, epochs=50)\n",
    "    \n",
    "    predictions = model.predict(X_test)\n",
    "\n",
    "    print(\"\\nMultilabel ranking metrics\")\n",
    "    h_score = hitk(y_test, predictions, 5)\n",
    "    ap_score = label_ranking_average_precision_score(y_test, predictions)\n",
    "    \n",
    "    print(\"Coverage Error:\", coverage_error(y_test, predictions))\n",
    "    print(\"Label Ranking Average Precision:\", label_ranking_average_precision_score(y_test, predictions))\n",
    "    print(\"Label Ranking Loss:\", label_ranking_loss(y_test, predictions))\n",
    "    print(\"Hit Ratio:\", h_score)\n",
    "    print(\"Average Precision:\", ap_score)\n",
    "\n",
    "    predictions = predictions.round()\n",
    "    \n",
    "    hamming_loss_score = hamming_loss(y_test, predictions)\n",
    "    print(\"Hamming Loss:\", hamming_loss_score)\n",
    "\n",
    "    print(\"\\nNormal ranking metrics\")\n",
    "    precision = precision_score(y_test, predictions, average='weighted')\n",
    "    recall = recall_score(y_test, predictions, average='weighted')\n",
    "    f1 = f1_score(y_test, predictions, average='weighted')\n",
    "    \n",
    "    print(\"Precision:\", precision)\n",
    "    print(\"Recall:\", recall)\n",
    "    print(\"F1 Score:\", f1)\n",
    "    \n",
    "    if best_result < h_score:\n",
    "        bst_result = h_score\n",
    "        \n",
    "        model.save_weights(\"/Models/MLP\")\n",
    "        \n",
    "    metrics = {\n",
    "        \"f1_train_mlp_\" + variable: f1,\n",
    "        \"recall_train_mlp_\" + variable: recall,\n",
    "        \"precision_train_mlp_\" + variable: precision,\n",
    "        \"hit_ratio_5_train_mlp_\" + variable: h_score,\n",
    "        \"ap_train_mlp_\"+ variable: ap_score,\n",
    "        \"hamming_loss_train_mlp_\" + variable: hamming_loss_score\n",
    "    }\n",
    "    \n",
    "    params = {\n",
    "        \"random_state\": \"\",\n",
    "        \"model_type\":\"logreg\",\n",
    "        \"scaler\":\"\",\n",
    "        \"param_grid\": \"\",\n",
    "        \"stratify\": True\n",
    "    }\n",
    "    \n",
    "    experiment.log_parameters(params, step=fold_no)\n",
    "    experiment.log_metrics(metrics, step=fold_no)\n",
    "    \n",
    "    fold_no += 1\n",
    "  \n",
    "  return best_result"
   ]
  },
  {
   "cell_type": "code",
   "execution_count": 31,
   "metadata": {},
   "outputs": [],
   "source": [
    "def warn(*args, **kwargs):\n",
    "    pass\n",
    "\n",
    "import warnings\n",
    "warnings.warn = warn"
   ]
  },
  {
   "cell_type": "code",
   "execution_count": 32,
   "metadata": {
    "colab": {
     "base_uri": "https://localhost:8080/"
    },
    "id": "m4x1SF6uEcl-",
    "outputId": "194b907b-a6e2-43b9-a288-e7c7a70e62f0"
   },
   "outputs": [
    {
     "name": "stdout",
     "output_type": "stream",
     "text": [
      "Analysing variable title\n",
      "Score for fold 1\n",
      "\n",
      "Multilabel ranking metrics\n",
      "Coverage Error: 851.7690253671562\n",
      "Label Ranking Average Precision: 0.38146230734156\n",
      "Label Ranking Loss: 0.11212294990374125\n",
      "Hit Ratio: 0.4056964842011571\n",
      "Average Precision: 0.38146230734156\n",
      "Hamming Loss: 0.0049618087001264575\n",
      "\n",
      "Normal ranking metrics\n",
      "Precision: 0.41993766390724896\n",
      "Recall: 0.277190332326284\n",
      "F1 Score: 0.32212013147608354\n",
      "Score for fold 2\n",
      "\n",
      "Multilabel ranking metrics\n",
      "Coverage Error: 836.1597869507324\n",
      "Label Ranking Average Precision: 0.3996431714109097\n",
      "Label Ranking Loss: 0.10495930996499629\n",
      "Hit Ratio: 0.4324456280514869\n",
      "Average Precision: 0.3996431714109097\n",
      "Hamming Loss: 0.0049613551610888495\n",
      "\n",
      "Normal ranking metrics\n",
      "Precision: 0.4190075049691754\n",
      "Recall: 0.2924617038430529\n",
      "F1 Score: 0.3331879166686888\n",
      "Score for fold 3\n",
      "\n",
      "Multilabel ranking metrics\n",
      "Coverage Error: 842.9853333333333\n",
      "Label Ranking Average Precision: 0.38591534217417733\n",
      "Label Ranking Loss: 0.10620047052656942\n",
      "Hit Ratio: 0.4328666666666666\n",
      "Average Precision: 0.38591534217417733\n",
      "Hamming Loss: 0.005164119830786498\n",
      "\n",
      "Normal ranking metrics\n",
      "Precision: 0.4267116870750754\n",
      "Recall: 0.2764457910683704\n",
      "F1 Score: 0.3239441718569893\n",
      "Score for fold 4\n",
      "\n",
      "Multilabel ranking metrics\n",
      "Coverage Error: 856.2927807486631\n",
      "Label Ranking Average Precision: 0.39359085648737213\n",
      "Label Ranking Loss: 0.10732211980678578\n",
      "Hit Ratio: 0.4401292335115864\n",
      "Average Precision: 0.39359085648737213\n",
      "Hamming Loss: 0.004945589170188101\n",
      "\n",
      "Normal ranking metrics\n",
      "Precision: 0.46395568628197764\n",
      "Recall: 0.28892445155697805\n",
      "F1 Score: 0.34255564948517736\n",
      "Score for fold 5\n",
      "\n",
      "Multilabel ranking metrics\n",
      "Coverage Error: 847.1029411764706\n",
      "Label Ranking Average Precision: 0.38947285857013286\n",
      "Label Ranking Loss: 0.10213196290302873\n",
      "Hit Ratio: 0.41479500891265597\n",
      "Average Precision: 0.38947285857013286\n",
      "Hamming Loss: 0.005116640143378111\n",
      "\n",
      "Normal ranking metrics\n",
      "Precision: 0.4076180234790606\n",
      "Recall: 0.271629232543937\n",
      "F1 Score: 0.3143662357858259\n",
      "Score for fold 6\n",
      "\n",
      "Multilabel ranking metrics\n",
      "Coverage Error: 860.2042723631508\n",
      "Label Ranking Average Precision: 0.3792227358938776\n",
      "Label Ranking Loss: 0.10686587438080618\n",
      "Hit Ratio: 0.42280818869603914\n",
      "Average Precision: 0.3792227358938776\n",
      "Hamming Loss: 0.004933799326322691\n",
      "\n",
      "Normal ranking metrics\n",
      "Precision: 0.44755407631198973\n",
      "Recall: 0.26976774961953287\n",
      "F1 Score: 0.3254620503940795\n",
      "Score for fold 7\n",
      "\n",
      "Multilabel ranking metrics\n",
      "Coverage Error: 758.4230769230769\n",
      "Label Ranking Average Precision: 0.40612313318591886\n",
      "Label Ranking Loss: 0.09445142836874013\n",
      "Hit Ratio: 0.4448938992042441\n",
      "Average Precision: 0.40612313318591886\n",
      "Hamming Loss: 0.004777764724714327\n",
      "\n",
      "Normal ranking metrics\n",
      "Precision: 0.468129970063356\n",
      "Recall: 0.30129153773711825\n",
      "F1 Score: 0.35111899609666414\n",
      "Score for fold 8\n",
      "\n",
      "Multilabel ranking metrics\n",
      "Coverage Error: 867.1420982735724\n",
      "Label Ranking Average Precision: 0.39164784317627677\n",
      "Label Ranking Loss: 0.11503744385041663\n",
      "Hit Ratio: 0.43410801239486496\n",
      "Average Precision: 0.39164784317627677\n",
      "Hamming Loss: 0.004901055365862802\n",
      "\n",
      "Normal ranking metrics\n",
      "Precision: 0.4559507695097333\n",
      "Recall: 0.2782864398850498\n",
      "F1 Score: 0.3335290218379784\n",
      "Score for fold 9\n",
      "\n",
      "Multilabel ranking metrics\n",
      "Coverage Error: 848.523240371846\n",
      "Label Ranking Average Precision: 0.3762784830768655\n",
      "Label Ranking Loss: 0.10692305572454695\n",
      "Hit Ratio: 0.41881363435148294\n",
      "Average Precision: 0.3762784830768655\n",
      "Hamming Loss: 0.004926164288714089\n",
      "\n",
      "Normal ranking metrics\n",
      "Precision: 0.43196898856012217\n",
      "Recall: 0.26736157216837075\n",
      "F1 Score: 0.3172714355984947\n",
      "Score for fold 10\n",
      "\n",
      "Multilabel ranking metrics\n",
      "Coverage Error: 855.479305740988\n",
      "Label Ranking Average Precision: 0.3727146338330894\n",
      "Label Ranking Loss: 0.10713398016047304\n",
      "Hit Ratio: 0.39728526924788604\n",
      "Average Precision: 0.3727146338330894\n",
      "Hamming Loss: 0.0049943134055283585\n",
      "\n",
      "Normal ranking metrics\n",
      "Precision: 0.415290965621916\n",
      "Recall: 0.25408737603859555\n",
      "F1 Score: 0.3042123244362299\n",
      "Analysing variable description\n",
      "Score for fold 1\n",
      "\n",
      "Multilabel ranking metrics\n",
      "Coverage Error: 383.4646194926569\n",
      "Label Ranking Average Precision: 0.5951065670261914\n",
      "Label Ranking Loss: 0.03395811964374662\n",
      "Hit Ratio: 0.6296172674677348\n",
      "Average Precision: 0.5951065670261914\n",
      "Hamming Loss: 0.0038908823955552925\n",
      "\n",
      "Normal ranking metrics\n",
      "Precision: 0.5921458822183485\n",
      "Recall: 0.4519362812414172\n",
      "F1 Score: 0.49604087635157745\n",
      "Score for fold 2\n",
      "\n",
      "Multilabel ranking metrics\n",
      "Coverage Error: 364.2809587217044\n",
      "Label Ranking Average Precision: 0.5950547783721896\n",
      "Label Ranking Loss: 0.03206884338316968\n",
      "Hit Ratio: 0.6333333333333333\n",
      "Average Precision: 0.5950547783721896\n",
      "Hamming Loss: 0.00390983480197861\n",
      "\n",
      "Normal ranking metrics\n",
      "Precision: 0.5953451988033388\n",
      "Recall: 0.4529024455791454\n",
      "F1 Score: 0.500342233078512\n",
      "Score for fold 3\n",
      "\n",
      "Multilabel ranking metrics\n",
      "Coverage Error: 390.20666666666665\n",
      "Label Ranking Average Precision: 0.5842719887526417\n",
      "Label Ranking Loss: 0.03267595705718048\n",
      "Hit Ratio: 0.6261777777777777\n",
      "Average Precision: 0.5842719887526417\n",
      "Hamming Loss: 0.004041785375118709\n",
      "\n",
      "Normal ranking metrics\n",
      "Precision: 0.5847920051489458\n",
      "Recall: 0.4236595968910552\n",
      "F1 Score: 0.4773682112785058\n",
      "Score for fold 4\n",
      "\n",
      "Multilabel ranking metrics\n",
      "Coverage Error: 369.0307486631016\n",
      "Label Ranking Average Precision: 0.605932763809635\n",
      "Label Ranking Loss: 0.03302547531111503\n",
      "Hit Ratio: 0.6593360071301247\n",
      "Average Precision: 0.605932763809635\n",
      "Hamming Loss: 0.0037890906874864095\n",
      "\n",
      "Normal ranking metrics\n",
      "Precision: 0.6307891612878548\n",
      "Recall: 0.47736213909448555\n",
      "F1 Score: 0.5316255626719127\n",
      "Score for fold 5\n",
      "\n",
      "Multilabel ranking metrics\n",
      "Coverage Error: 378.2847593582888\n",
      "Label Ranking Average Precision: 0.6108056664977085\n",
      "Label Ranking Loss: 0.030627210195352205\n",
      "Hit Ratio: 0.6539438502673797\n",
      "Average Precision: 0.6108056664977085\n",
      "Hamming Loss: 0.00380986610933135\n",
      "\n",
      "Normal ranking metrics\n",
      "Precision: 0.6024832144910528\n",
      "Recall: 0.4785234443916672\n",
      "F1 Score: 0.5209783703522488\n",
      "Score for fold 6\n",
      "\n",
      "Multilabel ranking metrics\n",
      "Coverage Error: 365.88651535380507\n",
      "Label Ranking Average Precision: 0.603768196072687\n",
      "Label Ranking Loss: 0.03097135217857948\n",
      "Hit Ratio: 0.647774810858923\n",
      "Average Precision: 0.603768196072687\n",
      "Hamming Loss: 0.003952433858975915\n",
      "\n",
      "Normal ranking metrics\n",
      "Precision: 0.5967639593917494\n",
      "Recall: 0.4576192681797128\n",
      "F1 Score: 0.5032206144112537\n",
      "Score for fold 7\n",
      "\n",
      "Multilabel ranking metrics\n",
      "Coverage Error: 390.3713527851459\n",
      "Label Ranking Average Precision: 0.5663640275138816\n",
      "Label Ranking Loss: 0.03946752562393079\n",
      "Hit Ratio: 0.6090627763041556\n",
      "Average Precision: 0.5663640275138816\n",
      "Hamming Loss: 0.004093852900218948\n",
      "\n",
      "Normal ranking metrics\n",
      "Precision: 0.574463014248418\n",
      "Recall: 0.42008610251580786\n",
      "F1 Score: 0.4734785373700283\n",
      "Score for fold 8\n",
      "\n",
      "Multilabel ranking metrics\n",
      "Coverage Error: 398.3120849933599\n",
      "Label Ranking Average Precision: 0.5854994645227183\n",
      "Label Ranking Loss: 0.03489475453544276\n",
      "Hit Ratio: 0.6383355467020805\n",
      "Average Precision: 0.5854994645227183\n",
      "Hamming Loss: 0.004047695946766332\n",
      "\n",
      "Normal ranking metrics\n",
      "Precision: 0.5816414470465332\n",
      "Recall: 0.4428256365702065\n",
      "F1 Score: 0.48744812862767867\n",
      "Score for fold 9\n",
      "\n",
      "Multilabel ranking metrics\n",
      "Coverage Error: 364.01726427622845\n",
      "Label Ranking Average Precision: 0.5784698994827567\n",
      "Label Ranking Loss: 0.036091564360835125\n",
      "Hit Ratio: 0.6249667994687915\n",
      "Average Precision: 0.5784698994827567\n",
      "Hamming Loss: 0.004105136907261741\n",
      "\n",
      "Normal ranking metrics\n",
      "Precision: 0.5676463306917335\n",
      "Recall: 0.4406453326251494\n",
      "F1 Score: 0.47975624002292255\n",
      "Score for fold 10\n",
      "\n",
      "Multilabel ranking metrics\n",
      "Coverage Error: 375.675567423231\n",
      "Label Ranking Average Precision: 0.5877749636483435\n",
      "Label Ranking Loss: 0.03169593132518277\n",
      "Hit Ratio: 0.6390965732087227\n",
      "Average Precision: 0.5877749636483435\n",
      "Hamming Loss: 0.00407553678581716\n",
      "\n",
      "Normal ranking metrics\n",
      "Precision: 0.5681437746037901\n",
      "Recall: 0.43185473063521845\n",
      "F1 Score: 0.47803762147908835\n",
      "Analysing variable content\n",
      "Score for fold 1\n",
      "\n",
      "Multilabel ranking metrics\n",
      "Coverage Error: 801.7556742323097\n",
      "Label Ranking Average Precision: 0.3936920350846769\n",
      "Label Ranking Loss: 0.09748548410464981\n",
      "Hit Ratio: 0.4169114374721851\n",
      "Average Precision: 0.3936920350846769\n",
      "Hamming Loss: 0.005016444268780717\n",
      "\n",
      "Normal ranking metrics\n",
      "Precision: 0.41960660322871424\n",
      "Recall: 0.2692254875034331\n",
      "F1 Score: 0.31810956575034005\n",
      "Score for fold 2\n",
      "\n",
      "Multilabel ranking metrics\n"
     ]
    },
    {
     "name": "stdout",
     "output_type": "stream",
     "text": [
      "Coverage Error: 719.9347536617843\n",
      "Label Ranking Average Precision: 0.4100515865588897\n",
      "Label Ranking Loss: 0.08397386835190081\n",
      "Hit Ratio: 0.4470483799378607\n",
      "Average Precision: 0.4100515865588897\n",
      "Hamming Loss: 0.00486548023165866\n",
      "\n",
      "Normal ranking metrics\n",
      "Precision: 0.44512889029724334\n",
      "Recall: 0.28003224939532384\n",
      "F1 Score: 0.3289085162574284\n",
      "Score for fold 3\n",
      "\n",
      "Multilabel ranking metrics\n",
      "Coverage Error: 764.1493333333333\n",
      "Label Ranking Average Precision: 0.42051900082405524\n",
      "Label Ranking Loss: 0.09063888589071338\n",
      "Hit Ratio: 0.4630222222222222\n",
      "Average Precision: 0.42051900082405524\n",
      "Hamming Loss: 0.005002158335491669\n",
      "\n",
      "Normal ranking metrics\n",
      "Precision: 0.4431282147273626\n",
      "Recall: 0.2704518508760374\n",
      "F1 Score: 0.3235155372301045\n",
      "Score for fold 4\n",
      "\n",
      "Multilabel ranking metrics\n",
      "Coverage Error: 759.4986631016043\n",
      "Label Ranking Average Precision: 0.4254887845907349\n",
      "Label Ranking Loss: 0.08923276392929518\n",
      "Hit Ratio: 0.4779188948306596\n",
      "Average Precision: 0.4254887845907349\n",
      "Hamming Loss: 0.004870451394515566\n",
      "\n",
      "Normal ranking metrics\n",
      "Precision: 0.44718201987320566\n",
      "Recall: 0.28892445155697805\n",
      "F1 Score: 0.33639623414844433\n",
      "Score for fold 5\n",
      "\n",
      "Multilabel ranking metrics\n",
      "Coverage Error: 793.2179144385027\n",
      "Label Ranking Average Precision: 0.4219297368834042\n",
      "Label Ranking Loss: 0.08862242835352784\n",
      "Hit Ratio: 0.46307932263814616\n",
      "Average Precision: 0.4219297368834042\n",
      "Hamming Loss: 0.004782155851674568\n",
      "\n",
      "Normal ranking metrics\n",
      "Precision: 0.4533910087564109\n",
      "Recall: 0.3012824862590758\n",
      "F1 Score: 0.3493858612315764\n",
      "Score for fold 6\n",
      "\n",
      "Multilabel ranking metrics\n",
      "Coverage Error: 822.0854472630174\n",
      "Label Ranking Average Precision: 0.4065459078377193\n",
      "Label Ranking Loss: 0.10228360548438513\n",
      "Hit Ratio: 0.44942145082331997\n",
      "Average Precision: 0.4065459078377193\n",
      "Hamming Loss: 0.005019556421425581\n",
      "\n",
      "Normal ranking metrics\n",
      "Precision: 0.42637449802977156\n",
      "Recall: 0.27684774697280484\n",
      "F1 Score: 0.3260986777188064\n",
      "Score for fold 7\n",
      "\n",
      "Multilabel ranking metrics\n",
      "Coverage Error: 720.8275862068965\n",
      "Label Ranking Average Precision: 0.42991149886807245\n",
      "Label Ranking Loss: 0.0887260746854641\n",
      "Hit Ratio: 0.4540893015030946\n",
      "Average Precision: 0.42991149886807245\n",
      "Hamming Loss: 0.004729674490947701\n",
      "\n",
      "Normal ranking metrics\n",
      "Precision: 0.4629247504500797\n",
      "Recall: 0.30492398762276335\n",
      "F1 Score: 0.35532733932330357\n",
      "Score for fold 8\n",
      "\n",
      "Multilabel ranking metrics\n",
      "Coverage Error: 764.714475431607\n",
      "Label Ranking Average Precision: 0.41688519175590827\n",
      "Label Ranking Loss: 0.08994876109658469\n",
      "Hit Ratio: 0.4570606463036742\n",
      "Average Precision: 0.41688519175590827\n",
      "Hamming Loss: 0.004824696723767109\n",
      "\n",
      "Normal ranking metrics\n",
      "Precision: 0.4595610665828416\n",
      "Recall: 0.27902158658023124\n",
      "F1 Score: 0.3351661469414568\n",
      "Score for fold 9\n",
      "\n",
      "Multilabel ranking metrics\n",
      "Coverage Error: 780.2324037184595\n",
      "Label Ranking Average Precision: 0.383539847304143\n",
      "Label Ranking Loss: 0.09653069854975202\n",
      "Hit Ratio: 0.4291943337760071\n",
      "Average Precision: 0.383539847304143\n",
      "Hamming Loss: 0.005019032907479123\n",
      "\n",
      "Normal ranking metrics\n",
      "Precision: 0.42577252215132805\n",
      "Recall: 0.2591953259859248\n",
      "F1 Score: 0.307711178769568\n",
      "Score for fold 10\n",
      "\n",
      "Multilabel ranking metrics\n",
      "Coverage Error: 787.3524699599466\n",
      "Label Ranking Average Precision: 0.39574291637193854\n",
      "Label Ranking Loss: 0.09754858805855983\n",
      "Hit Ratio: 0.4264797507788162\n",
      "Average Precision: 0.39574291637193854\n",
      "Hamming Loss: 0.005067276095313478\n",
      "\n",
      "Normal ranking metrics\n",
      "Precision: 0.3908902395453208\n",
      "Recall: 0.26273117126775664\n",
      "F1 Score: 0.3039591459586782\n",
      "Analysing variable image\n",
      "Score for fold 1\n",
      "\n",
      "Multilabel ranking metrics\n",
      "Coverage Error: 1446.9385847797062\n",
      "Label Ranking Average Precision: 0.13607656476503624\n",
      "Label Ranking Loss: 0.13148501116607292\n",
      "Hit Ratio: 0.0013351134846461949\n",
      "Average Precision: 0.13607656476503624\n",
      "Hamming Loss: 0.005062434968977025\n",
      "\n",
      "Normal ranking metrics\n",
      "Precision: 0.022936693216149412\n",
      "Recall: 0.0008926119198022521\n",
      "F1 Score: 0.0017170975361621183\n",
      "Score for fold 2\n",
      "\n",
      "Multilabel ranking metrics\n",
      "Coverage Error: 1473.797603195739\n",
      "Label Ranking Average Precision: 0.1371068972342283\n",
      "Label Ranking Loss: 0.1439129244488331\n",
      "Hit Ratio: 0.009320905459387484\n",
      "Average Precision: 0.1371068972342283\n",
      "Hamming Loss: 0.005265878767876105\n",
      "\n",
      "Normal ranking metrics\n",
      "Precision: 0.04553858045862883\n",
      "Recall: 0.0038968019349637194\n",
      "F1 Score: 0.0070377676931731\n",
      "Score for fold 3\n",
      "\n",
      "Multilabel ranking metrics\n",
      "Coverage Error: 1502.4293333333333\n",
      "Label Ranking Average Precision: 0.1332587501271269\n",
      "Label Ranking Loss: 0.1430061653140121\n",
      "Hit Ratio: 0.009333333333333334\n",
      "Average Precision: 0.1332587501271269\n",
      "Hamming Loss: 0.005265302598635932\n",
      "\n",
      "Normal ranking metrics\n",
      "Precision: 0.08557063188864004\n",
      "Recall: 0.004544855750230536\n",
      "F1 Score: 0.008521676598113422\n",
      "Score for fold 4\n",
      "\n",
      "Multilabel ranking metrics\n",
      "Coverage Error: 1554.98128342246\n",
      "Label Ranking Average Precision: 0.11726767619788013\n",
      "Label Ranking Loss: 0.15449314143943493\n",
      "Hit Ratio: 0.01626559714795009\n",
      "Average Precision: 0.11726767619788013\n",
      "Hamming Loss: 0.005338590900088226\n",
      "\n",
      "Normal ranking metrics\n",
      "Precision: 0.08216646215245935\n",
      "Recall: 0.007601520304060812\n",
      "F1 Score: 0.013610639780756946\n",
      "Score for fold 5\n",
      "\n",
      "Multilabel ranking metrics\n",
      "Coverage Error: 1474.0975935828876\n",
      "Label Ranking Average Precision: 0.1478940777140308\n",
      "Label Ranking Loss: 0.13519236136216056\n",
      "Hit Ratio: 0.00267379679144385\n",
      "Average Precision: 0.1478940777140308\n",
      "Hamming Loss: 0.00511006125979388\n",
      "\n",
      "Normal ranking metrics\n",
      "Precision: 0.08169912465223587\n",
      "Recall: 0.0010857026531858587\n",
      "F1 Score: 0.002140335993189711\n",
      "Score for fold 6\n",
      "\n",
      "Multilabel ranking metrics\n",
      "Coverage Error: 1516.0761014686248\n",
      "Label Ranking Average Precision: 0.14061176275318482\n",
      "Label Ranking Loss: 0.13886283451468576\n",
      "Hit Ratio: 0.004005340453938585\n",
      "Average Precision: 0.14061176275318482\n",
      "Hamming Loss: 0.0052816688330707025\n",
      "\n",
      "Normal ranking metrics\n",
      "Precision: 0.09281744193740488\n",
      "Recall: 0.0027128961820948854\n",
      "F1 Score: 0.005113660162596447\n",
      "Score for fold 7\n",
      "\n",
      "Multilabel ranking metrics\n",
      "Coverage Error: 1481.0397877984085\n",
      "Label Ranking Average Precision: 0.14012608155225542\n",
      "Label Ranking Loss: 0.15219095133123348\n",
      "Hit Ratio: 0.007957559681697613\n",
      "Average Precision: 0.14012608155225542\n",
      "Hamming Loss: 0.005291643222677706\n",
      "\n",
      "Normal ranking metrics\n",
      "Precision: 0.034211010748075185\n",
      "Recall: 0.003901520247544733\n",
      "F1 Score: 0.00688761531716869\n",
      "Score for fold 8\n",
      "\n",
      "Multilabel ranking metrics\n",
      "Coverage Error: 1470.8525896414342\n",
      "Label Ranking Average Precision: 0.1365472964363265\n",
      "Label Ranking Loss: 0.1369346228603472\n",
      "Hit Ratio: 0.0013280212483399733\n",
      "Average Precision: 0.1365472964363265\n",
      "Hamming Loss: 0.005160055624863062\n",
      "\n",
      "Normal ranking metrics\n",
      "Precision: 0.015304417563322863\n",
      "Recall: 0.0012029673193878234\n",
      "F1 Score: 0.002230557474142056\n",
      "Score for fold 9\n",
      "\n",
      "Multilabel ranking metrics\n",
      "Coverage Error: 1515.219123505976\n",
      "Label Ranking Average Precision: 0.13634605932410712\n",
      "Label Ranking Loss: 0.14935254500092007\n",
      "Hit Ratio: 0.005312084993359893\n",
      "Average Precision: 0.13634605932410712\n",
      "Hamming Loss: 0.00532584330725101\n",
      "\n",
      "Normal ranking metrics\n",
      "Precision: 0.06766365688487586\n",
      "Recall: 0.0039835347231443365\n",
      "F1 Score: 0.007388363160313304\n",
      "Score for fold 10\n",
      "\n",
      "Multilabel ranking metrics\n",
      "Coverage Error: 1466.4632843791721\n",
      "Label Ranking Average Precision: 0.14189224975429046\n",
      "Label Ranking Loss: 0.13242781017283364\n",
      "Hit Ratio: 0.0\n",
      "Average Precision: 0.14189224975429046\n",
      "Hamming Loss: 0.005160640674659366\n",
      "\n",
      "Normal ranking metrics\n",
      "Precision: 0.0\n",
      "Recall: 0.0\n",
      "F1 Score: 0.0\n"
     ]
    }
   ],
   "source": [
    "variables = {\n",
    "    \"title\": titles_train_x,\n",
    "    \"description\": descriptions_train_x,\n",
    "    \"content\": contents_train_x,\n",
    "    \"image\": images_train_x\n",
    "}\n",
    "\n",
    "for variable in variables.keys(): \n",
    "  print(\"Analysing variable\", variable)\n",
    "\n",
    "  # load dataset\n",
    "  X = variables[variable]\n",
    "\n",
    "  # evaluate model\n",
    "  evaluate_model(X, y_train, variable)"
   ]
  },
  {
   "cell_type": "code",
   "execution_count": 33,
   "metadata": {},
   "outputs": [
    {
     "name": "stderr",
     "output_type": "stream",
     "text": [
      "COMET INFO: ---------------------------\n",
      "COMET INFO: Comet.ml Experiment Summary\n",
      "COMET INFO: ---------------------------\n",
      "COMET INFO:   Data:\n",
      "COMET INFO:     display_summary_level : 1\n",
      "COMET INFO:     url                   : https://www.comet.ml/vieiraeduardos/tag-recommendation/f1f56fd3897e48f29a7e14c5a2698a0d\n",
      "COMET INFO:   Metrics [count] (min, max):\n",
      "COMET INFO:     ap_train_mlp_content [10]               : (0.383539847304143, 0.42991149886807245)\n",
      "COMET INFO:     ap_train_mlp_description [10]           : (0.5663640275138816, 0.6108056664977085)\n",
      "COMET INFO:     ap_train_mlp_image [10]                 : (0.11726767619788013, 0.1478940777140308)\n",
      "COMET INFO:     ap_train_mlp_title [10]                 : (0.3727146338330894, 0.40612313318591886)\n",
      "COMET INFO:     batch_loss [48400]                      : (0.0003269795561209321, 1.075533390045166)\n",
      "COMET INFO:     epoch_duration [2200]                   : (0.34007376339286566, 1.1024644961580634)\n",
      "COMET INFO:     f1_train_mlp_content [10]               : (0.3039591459586782, 0.35532733932330357)\n",
      "COMET INFO:     f1_train_mlp_description [10]           : (0.4734785373700283, 0.5316255626719127)\n",
      "COMET INFO:     f1_train_mlp_image [10]                 : (0.0, 0.013610639780756946)\n",
      "COMET INFO:     f1_train_mlp_title [10]                 : (0.3042123244362299, 0.35111899609666414)\n",
      "COMET INFO:     hamming_loss_train_mlp_content [10]     : (0.004729674490947701, 0.005067276095313478)\n",
      "COMET INFO:     hamming_loss_train_mlp_description [10] : (0.0037890906874864095, 0.004105136907261741)\n",
      "COMET INFO:     hamming_loss_train_mlp_image [10]       : (0.005062434968977025, 0.005338590900088226)\n",
      "COMET INFO:     hamming_loss_train_mlp_title [10]       : (0.004777764724714327, 0.005164119830786498)\n",
      "COMET INFO:     hit_ratio_5_train_mlp_content [10]      : (0.4169114374721851, 0.4779188948306596)\n",
      "COMET INFO:     hit_ratio_5_train_mlp_description [10]  : (0.6090627763041556, 0.6593360071301247)\n",
      "COMET INFO:     hit_ratio_5_train_mlp_image [10]        : (0.0, 0.01626559714795009)\n",
      "COMET INFO:     hit_ratio_5_train_mlp_title [10]        : (0.39728526924788604, 0.4448938992042441)\n",
      "COMET INFO:     loss [2200]                             : (0.0009041379089467227, 0.10676047950983047)\n",
      "COMET INFO:     precision_train_mlp_content [10]        : (0.3908902395453208, 0.4629247504500797)\n",
      "COMET INFO:     precision_train_mlp_description [10]    : (0.5676463306917335, 0.6307891612878548)\n",
      "COMET INFO:     precision_train_mlp_image [10]          : (0.0, 0.09281744193740488)\n",
      "COMET INFO:     precision_train_mlp_title [10]          : (0.4076180234790606, 0.468129970063356)\n",
      "COMET INFO:     recall_train_mlp_content [10]           : (0.2591953259859248, 0.30492398762276335)\n",
      "COMET INFO:     recall_train_mlp_description [10]       : (0.42008610251580786, 0.4785234443916672)\n",
      "COMET INFO:     recall_train_mlp_image [10]             : (0.0, 0.007601520304060812)\n",
      "COMET INFO:     recall_train_mlp_title [10]             : (0.25408737603859555, 0.30129153773711825)\n",
      "COMET INFO:   Parameters:\n",
      "COMET INFO:     Adam_amsgrad       : False\n",
      "COMET INFO:     Adam_beta_1        : 0.9\n",
      "COMET INFO:     Adam_beta_2        : 0.999\n",
      "COMET INFO:     Adam_decay         : 0.0\n",
      "COMET INFO:     Adam_epsilon       : 1e-07\n",
      "COMET INFO:     Adam_learning_rate : 0.001\n",
      "COMET INFO:     Adam_name          : Adam\n",
      "COMET INFO:     Optimizer          : Adam\n",
      "COMET INFO:     epochs             : 50\n",
      "COMET INFO:     model_type         : logreg\n",
      "COMET INFO:     param_grid         : \n",
      "COMET INFO:     random_state       : \n",
      "COMET INFO:     scaler             : \n",
      "COMET INFO:     steps              : 212\n",
      "COMET INFO:     stratify           : True\n",
      "COMET INFO:   Uploads:\n",
      "COMET INFO:     environment details      : 1\n",
      "COMET INFO:     filename                 : 1\n",
      "COMET INFO:     git metadata             : 1\n",
      "COMET INFO:     git-patch (uncompressed) : 1 (5.76 MB)\n",
      "COMET INFO:     installed packages       : 1\n",
      "COMET INFO:     model graph              : 1\n",
      "COMET INFO:     notebook                 : 1\n",
      "COMET INFO:     os packages              : 1\n",
      "COMET INFO:     source_code              : 1\n",
      "COMET INFO: ---------------------------\n",
      "COMET INFO: Uploading metrics, params, and assets to Comet before program termination (may take several seconds)\n",
      "COMET INFO: The Python SDK has 3600 seconds to finish before aborting...\n"
     ]
    }
   ],
   "source": [
    "experiment.end()"
   ]
  },
  {
   "cell_type": "code",
   "execution_count": null,
   "metadata": {},
   "outputs": [],
   "source": []
  }
 ],
 "metadata": {
  "colab": {
   "name": "Treinando modelo multilabel.ipynb",
   "provenance": []
  },
  "interpreter": {
   "hash": "0973d6013fea1e6f7f2f9c6aadc5d90f95a3cc4fae2d49d683c1580432583f3b"
  },
  "kernelspec": {
   "display_name": "Python 3",
   "language": "python",
   "name": "python3"
  },
  "language_info": {
   "codemirror_mode": {
    "name": "ipython",
    "version": 3
   },
   "file_extension": ".py",
   "mimetype": "text/x-python",
   "name": "python",
   "nbconvert_exporter": "python",
   "pygments_lexer": "ipython3",
   "version": "3.6.9"
  }
 },
 "nbformat": 4,
 "nbformat_minor": 2
}
